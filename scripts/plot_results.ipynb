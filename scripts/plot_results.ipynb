{
 "cells": [
  {
   "cell_type": "code",
   "execution_count": null,
   "metadata": {},
   "outputs": [],
   "source": [
    "import numpy as np\n",
    "import pickle\n",
    "import plotly.graph_objects as go\n",
    "import plotly.express as px"
   ]
  },
  {
   "cell_type": "code",
   "execution_count": null,
   "metadata": {},
   "outputs": [],
   "source": [
    "def plot_results(results, model_name):\n",
    "#   props = [0.0, 0.01, 0.03, 0.05, 0.10]\n",
    "#   for i in range(len(results)):\n",
    "#     results[i].append(props[i % 5])\n",
    "  results = [row for row in results if row[1] != 0.25]\n",
    "  results = np.array(results)\n",
    "  num_props = 5\n",
    "  fig = go.Figure()\n",
    "  for i in range(int(results.shape[0] / num_props)):\n",
    "    fig.add_trace(go.Scatter(x=results[(num_props*i):(num_props*i)+num_props][:, 1], y=results[(num_props*i):(num_props*i)+num_props][:, 3], mode=\"lines+markers\"))\n",
    "\n",
    "  fig.update_layout(\n",
    "      title=model_name,\n",
    "      xaxis_title=\"Proportion of malicious profiles injected\",\n",
    "      yaxis_title=\"RMSE of target item on test data\",\n",
    "      showlegend=False\n",
    "  )\n",
    "  fig.show()"
   ]
  },
  {
   "cell_type": "code",
   "execution_count": null,
   "metadata": {},
   "outputs": [],
   "source": [
    "def plot_all_results(all_results):\n",
    "  props = [0.0, 0.01, 0.03, 0.05, 0.10]\n",
    "  for results in all_results:\n",
    "    for i in range(len(results)):\n",
    "      results[i].append(props[i % 5])\n",
    "    results = np.array(results)\n",
    "\n",
    "  fig = go.Figure()\n",
    "  for i in range(int(results.shape[0] / 5)):\n",
    "    fig.add_trace(go.Scatter(x=results[(5*i):(5*i)+5][:, 4], y=results[(5*i):(5*i)+5][:, 2], mode=\"lines+markers\"))\n",
    "\n",
    "  fig.update_layout(\n",
    "      title=model_name,\n",
    "      xaxis_title=\"Proportion of malicious profiles injected\",\n",
    "      yaxis_title=\"RMSE of target item on test data\",\n",
    "      showlegend=False\n",
    "  )\n",
    "  fig.show()"
   ]
  },
  {
   "cell_type": "code",
   "execution_count": null,
   "metadata": {
    "scrolled": false
   },
   "outputs": [],
   "source": [
    "for model_name in [\"LeastSquares\", \"LeastAbsDev\", \"MedianGradient\", \"HuberLossGradient\"]:\n",
    "  with open(\"../results/average_attack/trial1/trial1_{}.pkl\".format(model_name), \"rb\") as f:\n",
    "    (_, results) = pickle.load(f)\n",
    "  plot_results(results, model_name)"
   ]
  },
  {
   "cell_type": "code",
   "execution_count": null,
   "metadata": {},
   "outputs": [],
   "source": [
    "np.set_printoptions(precision=3)\n",
    "np.set_printoptions(suppress=True)\n",
    "for model_name in [\"LeastSquares\", \"LeastAbsDev\", \"MedianGradient\", \"HuberLossGradient\"]:\n",
    "  with open(\"../results/average_attack/trial1/trial1_{}.pkl\".format(model_name), \"rb\") as f:\n",
    "    print(model_name)\n",
    "    (_, results) = pickle.load(f)\n",
    "    print(np.array(results, dtype=\"float\"))\n"
   ]
  },
  {
   "cell_type": "code",
   "execution_count": null,
   "metadata": {
    "scrolled": false
   },
   "outputs": [],
   "source": [
    "np.set_printoptions(precision=3)\n",
    "np.set_printoptions(suppress=True)\n",
    "for model_name in [\"LeastSquares\", \"LeastAbsDev\"]:\n",
    "  with open(\"../results/average_attack/trial2/trial2_{}.pkl\".format(model_name), \"rb\") as f:\n",
    "    (_, results) = pickle.load(f)\n",
    "#     print(model_name)\n",
    "#     print(np.array(results, dtype=\"float\"))\n",
    "  plot_results(results, model_name)"
   ]
  },
  {
   "cell_type": "code",
   "execution_count": null,
   "metadata": {},
   "outputs": [],
   "source": []
  }
 ],
 "metadata": {
  "kernelspec": {
   "display_name": "Python 3",
   "language": "python",
   "name": "python3"
  },
  "language_info": {
   "codemirror_mode": {
    "name": "ipython",
    "version": 3
   },
   "file_extension": ".py",
   "mimetype": "text/x-python",
   "name": "python",
   "nbconvert_exporter": "python",
   "pygments_lexer": "ipython3",
   "version": "3.6.8"
  }
 },
 "nbformat": 4,
 "nbformat_minor": 2
}
