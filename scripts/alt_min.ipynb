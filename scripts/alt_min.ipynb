{
 "cells": [
  {
   "cell_type": "code",
   "execution_count": 3,
   "metadata": {},
   "outputs": [],
   "source": [
    "import numpy as np\n",
    "import random\n",
    "import pandas as pd\n",
    "import pickle\n",
    "import torch\n",
    "from torch import nn"
   ]
  },
  {
   "cell_type": "code",
   "execution_count": 4,
   "metadata": {},
   "outputs": [],
   "source": [
    "train = pd.read_pickle(\"../data/ml-1m-split/train.pkl\")\n",
    "test = pd.read_pickle(\"../data/ml-1m-split/test.pkl\")\n",
    "full = pd.read_pickle(\"../data/ml-1m-split/full.pkl\")\n",
    "\n",
    "num_users = len(full.groupby(\"user\").size())\n",
    "num_items = len(full.groupby(\"item\").size())"
   ]
  },
  {
   "cell_type": "code",
   "execution_count": 5,
   "metadata": {},
   "outputs": [
    {
     "data": {
      "text/html": [
       "<div>\n",
       "<style scoped>\n",
       "    .dataframe tbody tr th:only-of-type {\n",
       "        vertical-align: middle;\n",
       "    }\n",
       "\n",
       "    .dataframe tbody tr th {\n",
       "        vertical-align: top;\n",
       "    }\n",
       "\n",
       "    .dataframe thead th {\n",
       "        text-align: right;\n",
       "    }\n",
       "</style>\n",
       "<table border=\"1\" class=\"dataframe\">\n",
       "  <thead>\n",
       "    <tr style=\"text-align: right;\">\n",
       "      <th></th>\n",
       "      <th>user</th>\n",
       "      <th>item</th>\n",
       "      <th>item_id</th>\n",
       "      <th>rating</th>\n",
       "      <th>timestamp</th>\n",
       "    </tr>\n",
       "  </thead>\n",
       "  <tbody>\n",
       "    <tr>\n",
       "      <th>0</th>\n",
       "      <td>0</td>\n",
       "      <td>1104</td>\n",
       "      <td>1193</td>\n",
       "      <td>5</td>\n",
       "      <td>978300760</td>\n",
       "    </tr>\n",
       "    <tr>\n",
       "      <th>1</th>\n",
       "      <td>0</td>\n",
       "      <td>1574</td>\n",
       "      <td>1721</td>\n",
       "      <td>4</td>\n",
       "      <td>978300055</td>\n",
       "    </tr>\n",
       "    <tr>\n",
       "      <th>2</th>\n",
       "      <td>0</td>\n",
       "      <td>1421</td>\n",
       "      <td>1545</td>\n",
       "      <td>4</td>\n",
       "      <td>978824139</td>\n",
       "    </tr>\n",
       "    <tr>\n",
       "      <th>3</th>\n",
       "      <td>0</td>\n",
       "      <td>708</td>\n",
       "      <td>745</td>\n",
       "      <td>3</td>\n",
       "      <td>978824268</td>\n",
       "    </tr>\n",
       "    <tr>\n",
       "      <th>4</th>\n",
       "      <td>0</td>\n",
       "      <td>2969</td>\n",
       "      <td>3186</td>\n",
       "      <td>4</td>\n",
       "      <td>978300019</td>\n",
       "    </tr>\n",
       "    <tr>\n",
       "      <th>...</th>\n",
       "      <td>...</td>\n",
       "      <td>...</td>\n",
       "      <td>...</td>\n",
       "      <td>...</td>\n",
       "      <td>...</td>\n",
       "    </tr>\n",
       "    <tr>\n",
       "      <th>800188</th>\n",
       "      <td>6039</td>\n",
       "      <td>2317</td>\n",
       "      <td>2512</td>\n",
       "      <td>5</td>\n",
       "      <td>956715383</td>\n",
       "    </tr>\n",
       "    <tr>\n",
       "      <th>800189</th>\n",
       "      <td>6039</td>\n",
       "      <td>2952</td>\n",
       "      <td>3168</td>\n",
       "      <td>4</td>\n",
       "      <td>964828900</td>\n",
       "    </tr>\n",
       "    <tr>\n",
       "      <th>800190</th>\n",
       "      <td>6039</td>\n",
       "      <td>2309</td>\n",
       "      <td>2503</td>\n",
       "      <td>5</td>\n",
       "      <td>956704191</td>\n",
       "    </tr>\n",
       "    <tr>\n",
       "      <th>800191</th>\n",
       "      <td>6039</td>\n",
       "      <td>3272</td>\n",
       "      <td>3505</td>\n",
       "      <td>4</td>\n",
       "      <td>956704056</td>\n",
       "    </tr>\n",
       "    <tr>\n",
       "      <th>800192</th>\n",
       "      <td>6039</td>\n",
       "      <td>1025</td>\n",
       "      <td>1097</td>\n",
       "      <td>4</td>\n",
       "      <td>956715569</td>\n",
       "    </tr>\n",
       "  </tbody>\n",
       "</table>\n",
       "<p>800193 rows × 5 columns</p>\n",
       "</div>"
      ],
      "text/plain": [
       "        user  item  item_id  rating  timestamp\n",
       "0          0  1104     1193       5  978300760\n",
       "1          0  1574     1721       4  978300055\n",
       "2          0  1421     1545       4  978824139\n",
       "3          0   708      745       3  978824268\n",
       "4          0  2969     3186       4  978300019\n",
       "...      ...   ...      ...     ...        ...\n",
       "800188  6039  2317     2512       5  956715383\n",
       "800189  6039  2952     3168       4  964828900\n",
       "800190  6039  2309     2503       5  956704191\n",
       "800191  6039  3272     3505       4  956704056\n",
       "800192  6039  1025     1097       4  956715569\n",
       "\n",
       "[800193 rows x 5 columns]"
      ]
     },
     "execution_count": 5,
     "metadata": {},
     "output_type": "execute_result"
    }
   ],
   "source": [
    "train.sort_values(by=\"user\", axis=0).reset_index(drop=True)"
   ]
  },
  {
   "cell_type": "code",
   "execution_count": 51,
   "metadata": {},
   "outputs": [],
   "source": [
    "train_u = train.sort_values(by=\"user\", axis=0).reset_index(drop=True).drop([\"item_id\", \"timestamp\"], axis=1).to_numpy()\n",
    "train_m = train.sort_values(by=\"item\", axis=0).reset_index(drop=True).drop([\"item_id\", \"timestamp\"], axis=1).to_numpy()\n",
    "U_freqs = train.groupby(\"user\").size().values\n",
    "M_group = train.groupby(\"item\").size()\n",
    "M_freqs = np.zeros(num_items, dtype=\"int\")\n",
    "for i in M_group.index:\n",
    "  M_freqs[i] = M_group[i]\n",
    "  \n",
    "U_start = np.cumsum(U_freqs)\n",
    "M_start = np.cumsum(M_freqs)\n",
    "U_start = np.insert(U_start, 0, 0)\n",
    "M_start = np.insert(M_start, 0, 0)"
   ]
  },
  {
   "cell_type": "code",
   "execution_count": 52,
   "metadata": {},
   "outputs": [
    {
     "data": {
      "text/plain": [
       "3707"
      ]
     },
     "execution_count": 52,
     "metadata": {},
     "output_type": "execute_result"
    }
   ],
   "source": [
    "len(M_start)"
   ]
  },
  {
   "cell_type": "code",
   "execution_count": 7,
   "metadata": {},
   "outputs": [
    {
     "data": {
      "text/plain": [
       "array([ 42, 103,  41, ...,  16,  98, 273])"
      ]
     },
     "execution_count": 7,
     "metadata": {},
     "output_type": "execute_result"
    }
   ],
   "source": [
    "U_freqs"
   ]
  },
  {
   "cell_type": "code",
   "execution_count": 8,
   "metadata": {},
   "outputs": [
    {
     "data": {
      "text/plain": [
       "639"
      ]
     },
     "execution_count": 8,
     "metadata": {},
     "output_type": "execute_result"
    }
   ],
   "source": [
    "U_start[9]"
   ]
  },
  {
   "cell_type": "code",
   "execution_count": 79,
   "metadata": {},
   "outputs": [],
   "source": [
    "def get_u_step(user):\n",
    "    return np.mean(np.apply_along_axis(lambda x: (x[2] - np.dot(U[user[0]], M[x[1]])) * M[x[1]], 1, train_u[U_start[user[0]] : U_start[user[0] + 1]]), axis=0)\n",
    "\n",
    "def get_m_step(item):\n",
    "    return np.mean(np.apply_along_axis(lambda x: (x[2] - np.dot(U[x[0]], M[item[0]])) * U[x[0]], 1, train_m[M_start[item[0]] : M_start[item[0] + 1]]), axis=0)\n",
    "     "
   ]
  },
  {
   "cell_type": "code",
   "execution_count": 97,
   "metadata": {},
   "outputs": [
    {
     "name": "stdout",
     "output_type": "stream",
     "text": [
      "CPU times: user 7.8 s, sys: 81 ms, total: 7.88 s\n",
      "Wall time: 7.89 s\n"
     ]
    },
    {
     "data": {
      "text/plain": [
       "array([[0.05163281, 0.05683624, 0.04578771, ..., 0.05079945, 0.04549282,\n",
       "        0.05502963],\n",
       "       [0.04091203, 0.03370367, 0.03911205, ..., 0.04094239, 0.04413883,\n",
       "        0.03814387],\n",
       "       [0.04337609, 0.04666317, 0.04887803, ..., 0.04839563, 0.05177086,\n",
       "        0.05284117],\n",
       "       ...,\n",
       "       [0.028283  , 0.02849512, 0.03034026, ..., 0.03234908, 0.02590766,\n",
       "        0.02952698],\n",
       "       [0.02714287, 0.03094314, 0.02730581, ..., 0.0299673 , 0.02974747,\n",
       "        0.02918572],\n",
       "       [0.01292772, 0.01016208, 0.01062782, ..., 0.00978245, 0.01192125,\n",
       "        0.00985399]])"
      ]
     },
     "execution_count": 97,
     "metadata": {},
     "output_type": "execute_result"
    }
   ],
   "source": [
    "%%time\n",
    "num_factors = 30\n",
    "lrate = 0.1\n",
    "U = np.random.uniform(0, 0.6, (num_users, num_factors))\n",
    "M = np.random.uniform(0, 0.6, (num_items, num_factors))\n",
    "\n",
    "lrate * np.apply_along_axis(get_u_step, 1, np.arange(num_users).reshape(-1, 1))"
   ]
  },
  {
   "cell_type": "code",
   "execution_count": 98,
   "metadata": {},
   "outputs": [
    {
     "name": "stdout",
     "output_type": "stream",
     "text": [
      "CPU times: user 7.5 s, sys: 75.7 ms, total: 7.57 s\n",
      "Wall time: 7.58 s\n"
     ]
    }
   ],
   "source": [
    "%%time\n",
    "num_factors = 30\n",
    "lrate = 0.1\n",
    "U = np.random.uniform(0, 0.6, (num_users, num_factors))\n",
    "M = np.random.uniform(0, 0.6, (num_items, num_factors))\n",
    "\n",
    "\n",
    "for user in range(num_users):\n",
    "  step = get_u_step([user])\n",
    "  U[user] += lrate * step\n",
    "  # step_size += np.sum(lrate * np.abs(step))"
   ]
  },
  {
   "cell_type": "code",
   "execution_count": 69,
   "metadata": {},
   "outputs": [],
   "source": [
    "def alt_min(num_factors, lrate):\n",
    "    U = np.random.uniform(0, 0.6, (num_users, num_factors))\n",
    "    M = np.random.uniform(0, 0.6, (num_items, num_factors))\n",
    "    \n",
    "    def evaluate():\n",
    "      return np.sqrt(np.mean(np.apply_along_axis(lambda x: (x[2] - np.dot(U[x[0]], M[x[1]])) ** 2, 1, train_u), axis=0))\n",
    "    \n",
    "    rmse = evaluate()\n",
    "    prev_rmse = 0\n",
    "    outer = 0\n",
    "    \n",
    "    print(\"Initial RMSE: {}\\n\".format(rmse))\n",
    "    \n",
    "    def get_u_step(user):\n",
    "      return np.mean(np.apply_along_axis(lambda x: (x[2] - np.dot(U[user], M[x[1]])) * M[x[1]], 1, train_u[U_start[user] : U_start[user + 1]]), axis=0)\n",
    "\n",
    "    def get_m_step(item):\n",
    "      return np.mean(np.apply_along_axis(lambda x: (x[2] - np.dot(U[x[0]], M[item])) * U[x[0]], 1, train_m[M_start[item] : M_start[item + 1]]), axis=0)\n",
    "     \n",
    "    print(np.apply_along_axis(get_u_step, 0, np.arange(10).reshape(-1, 1)))\n",
    "    \n",
    "    while abs(rmse - prev_rmse) > 0.001:\n",
    "        prev_rmse = rmse\n",
    "        \n",
    "        # Optmize U\n",
    "        step_size = 100\n",
    "        inner = 0\n",
    "        while abs(step_size) > 0.001:\n",
    "            step_size = 0\n",
    "            step = np.apply_along_axis(get_u_step, 1, np.arange(num_users).reshape(-1, 1))\n",
    "            for user in range(num_users):\n",
    "              step = get_u_step(user)\n",
    "              U[user] += lrate * step\n",
    "              step_size += np.sum(lrate * np.abs(step))\n",
    "            \n",
    "            step_size /= (num_users * num_factors)\n",
    "            \n",
    "            print(\"USER ITER {}\\nStep size: {}\\nRMSE: {}\\n\".format(inner, step_size, evaluate()))\n",
    "            inner += 1\n",
    "            \n",
    "        \n",
    "        # Optimize M\n",
    "        step_size = 100\n",
    "        inner = 0\n",
    "        while abs(step_size) > 0.001:            \n",
    "            step_size = 0\n",
    "            for item in M_group.index:\n",
    "              step = get_m_step(item)\n",
    "              M[item] += lrate * step\n",
    "              step_size += np.sum(lrate * np.abs(step))\n",
    "            \n",
    "            step_size /= (num_items * num_factors)\n",
    "            \n",
    "            print(\"ITEM ITER {}\\nStep size: {}\\nRMSE: {}\\n\".format(inner, step_size, evaluate()))\n",
    "            inner += 1\n",
    "\n",
    "        rmse = evaluate()\n",
    "\n",
    "        print(\"\\n============ ROUND {} ============\\nRMSE: {}\\nPrev RMSE: {}\\nDiff: {}\\n\".format(outer, rmse, prev_rmse, rmse - prev_rmse))\n",
    "        outer += 1"
   ]
  },
  {
   "cell_type": "code",
   "execution_count": 71,
   "metadata": {
    "scrolled": false
   },
   "outputs": [
    {
     "name": "stdout",
     "output_type": "stream",
     "text": [
      "Initial RMSE: 1.4834852036469584\n",
      "\n",
      "USER ITER 0\n",
      "Step size: 0.028978692307876676\n",
      "RMSE: 1.3187450694340364\n",
      "\n",
      "USER ITER 1\n",
      "Step size: 0.020955963266334598\n",
      "RMSE: 1.2232427796753311\n",
      "\n",
      "USER ITER 2\n",
      "Step size: 0.015156301275355956\n",
      "RMSE: 1.1697227292384458\n",
      "\n",
      "USER ITER 3\n",
      "Step size: 0.010963153448213796\n",
      "RMSE: 1.1403065283785454\n",
      "\n",
      "USER ITER 4\n",
      "Step size: 0.007931118156576458\n",
      "RMSE: 1.1242198497168923\n",
      "\n",
      "USER ITER 5\n",
      "Step size: 0.005738391014332326\n",
      "RMSE: 1.1153376546560545\n",
      "\n",
      "USER ITER 6\n",
      "Step size: 0.004152435920448024\n",
      "RMSE: 1.1102998790210836\n",
      "\n",
      "USER ITER 7\n",
      "Step size: 0.0030051997190769794\n",
      "RMSE: 1.1073002575011208\n",
      "\n",
      "USER ITER 8\n",
      "Step size: 0.0021752148178198604\n",
      "RMSE: 1.105378457332423\n",
      "\n",
      "USER ITER 9\n",
      "Step size: 0.0015746737877991377\n",
      "RMSE: 1.1040268641194038\n",
      "\n",
      "USER ITER 10\n",
      "Step size: 0.0011400934275439855\n",
      "RMSE: 1.1029779548990855\n",
      "\n",
      "USER ITER 11\n",
      "Step size: 0.0008255705591080819\n",
      "RMSE: 1.102090936040322\n",
      "\n",
      "ITEM ITER 0\n",
      "Step size: -0.007376753256799348\n",
      "RMSE: 0.9816164385656844\n",
      "\n",
      "ITEM ITER 1\n",
      "Step size: -0.004447873374380763\n",
      "RMSE: 0.9433108284944187\n",
      "\n",
      "ITEM ITER 2\n",
      "Step size: -0.0026765491295195534\n",
      "RMSE: 0.9314195014609438\n",
      "\n",
      "ITEM ITER 3\n",
      "Step size: -0.0016082610035939343\n",
      "RMSE: 0.9275646776409501\n",
      "\n",
      "ITEM ITER 4\n",
      "Step size: -0.0009654549759341005\n",
      "RMSE: 0.9261326872308526\n",
      "\n",
      "\n",
      "============ ROUND 0 ============\n",
      "RMSE: 0.9261326872308526\n",
      "Prev RMSE: 1.4834852036469584\n",
      "Diff: -0.5573525164161057\n",
      "\n",
      "USER ITER 0\n",
      "Step size: -0.00172466135580084\n",
      "RMSE: 0.9180034007480046\n",
      "\n",
      "USER ITER 1\n",
      "Step size: -0.0010591631756045926\n",
      "RMSE: 0.9135617909548567\n",
      "\n",
      "USER ITER 2\n",
      "Step size: -0.0006368831475116324\n",
      "RMSE: 0.9109850386185286\n",
      "\n",
      "ITEM ITER 0\n",
      "Step size: -0.0010203662774849749\n",
      "RMSE: 0.9088358733181066\n",
      "\n",
      "ITEM ITER 1\n",
      "Step size: -0.0005951531158282045\n",
      "RMSE: 0.9079574908078336\n",
      "\n",
      "\n",
      "============ ROUND 1 ============\n",
      "RMSE: 0.9079574908078336\n",
      "Prev RMSE: 0.9261326872308526\n",
      "Diff: -0.018175196423019013\n",
      "\n",
      "USER ITER 0\n",
      "Step size: -0.0007794388981010446\n",
      "RMSE: 0.9056103880186482\n",
      "\n",
      "ITEM ITER 0\n",
      "Step size: -0.00041362457277797996\n",
      "RMSE: 0.9049245686557853\n",
      "\n",
      "\n",
      "============ ROUND 2 ============\n",
      "RMSE: 0.9049245686557853\n",
      "Prev RMSE: 0.9079574908078336\n",
      "Diff: -0.003032922152048312\n",
      "\n",
      "USER ITER 0\n",
      "Step size: -0.0005863791505893407\n",
      "RMSE: 0.9032568035747411\n",
      "\n",
      "ITEM ITER 0\n",
      "Step size: -0.0002926167979646578\n",
      "RMSE: 0.9026972803172517\n",
      "\n",
      "\n",
      "============ ROUND 3 ============\n",
      "RMSE: 0.9026972803172517\n",
      "Prev RMSE: 0.9049245686557853\n",
      "Diff: -0.002227288338533584\n",
      "\n",
      "USER ITER 0\n",
      "Step size: -0.00044454724589487477\n",
      "RMSE: 0.9014440644597469\n",
      "\n",
      "ITEM ITER 0\n",
      "Step size: -0.00020883916951128567\n",
      "RMSE: 0.9009675433772085\n",
      "\n",
      "\n",
      "============ ROUND 4 ============\n",
      "RMSE: 0.9009675433772085\n",
      "Prev RMSE: 0.9026972803172517\n",
      "Diff: -0.0017297369400431917\n",
      "\n",
      "USER ITER 0\n",
      "Step size: -0.0003381675708010175\n",
      "RMSE: 0.8999716809324289\n",
      "\n",
      "ITEM ITER 0\n",
      "Step size: -0.00014969795606824688\n",
      "RMSE: 0.8995497890499664\n",
      "\n",
      "\n",
      "============ ROUND 5 ============\n",
      "RMSE: 0.8995497890499664\n",
      "Prev RMSE: 0.9009675433772085\n",
      "Diff: -0.0014177543272421156\n",
      "\n",
      "USER ITER 0\n",
      "Step size: -0.00025765972448372733\n",
      "RMSE: 0.8987160430328263\n",
      "\n",
      "ITEM ITER 0\n",
      "Step size: -0.00010755528306806188\n",
      "RMSE: 0.8983303691752114\n",
      "\n",
      "\n",
      "============ ROUND 6 ============\n",
      "RMSE: 0.8983303691752114\n",
      "Prev RMSE: 0.8995497890499664\n",
      "Diff: -0.0012194198747550455\n",
      "\n",
      "USER ITER 0\n",
      "Step size: -0.00019650921142754752\n",
      "RMSE: 0.8976002065129413\n",
      "\n"
     ]
    },
    {
     "ename": "KeyboardInterrupt",
     "evalue": "",
     "output_type": "error",
     "traceback": [
      "\u001b[0;31m-------------------------------------------------------------------------\u001b[0m",
      "\u001b[0;31mKeyboardInterrupt\u001b[0m                       Traceback (most recent call last)",
      "\u001b[0;32m<ipython-input-71-1ec320dc0f67>\u001b[0m in \u001b[0;36m<module>\u001b[0;34m\u001b[0m\n\u001b[0;32m----> 1\u001b[0;31m \u001b[0malt_min\u001b[0m\u001b[0;34m(\u001b[0m\u001b[0;36m30\u001b[0m\u001b[0;34m,\u001b[0m \u001b[0;36m0.1\u001b[0m\u001b[0;34m)\u001b[0m\u001b[0;34m\u001b[0m\u001b[0;34m\u001b[0m\u001b[0m\n\u001b[0m",
      "\u001b[0;32m<ipython-input-69-af04d9e579ed>\u001b[0m in \u001b[0;36malt_min\u001b[0;34m(num_factors, lrate)\u001b[0m\n\u001b[1;32m     50\u001b[0m             \u001b[0mstep_size\u001b[0m \u001b[0;34m/=\u001b[0m \u001b[0;34m(\u001b[0m\u001b[0mnum_items\u001b[0m \u001b[0;34m*\u001b[0m \u001b[0mnum_factors\u001b[0m\u001b[0;34m)\u001b[0m\u001b[0;34m\u001b[0m\u001b[0;34m\u001b[0m\u001b[0m\n\u001b[1;32m     51\u001b[0m \u001b[0;34m\u001b[0m\u001b[0m\n\u001b[0;32m---> 52\u001b[0;31m             \u001b[0mprint\u001b[0m\u001b[0;34m(\u001b[0m\u001b[0;34m\"ITEM ITER {}\\nStep size: {}\\nRMSE: {}\\n\"\u001b[0m\u001b[0;34m.\u001b[0m\u001b[0mformat\u001b[0m\u001b[0;34m(\u001b[0m\u001b[0minner\u001b[0m\u001b[0;34m,\u001b[0m \u001b[0mstep_size\u001b[0m\u001b[0;34m,\u001b[0m \u001b[0mevaluate\u001b[0m\u001b[0;34m(\u001b[0m\u001b[0;34m)\u001b[0m\u001b[0;34m)\u001b[0m\u001b[0;34m)\u001b[0m\u001b[0;34m\u001b[0m\u001b[0;34m\u001b[0m\u001b[0m\n\u001b[0m\u001b[1;32m     53\u001b[0m             \u001b[0minner\u001b[0m \u001b[0;34m+=\u001b[0m \u001b[0;36m1\u001b[0m\u001b[0;34m\u001b[0m\u001b[0;34m\u001b[0m\u001b[0m\n\u001b[1;32m     54\u001b[0m \u001b[0;34m\u001b[0m\u001b[0m\n",
      "\u001b[0;32m<ipython-input-69-af04d9e579ed>\u001b[0m in \u001b[0;36mevaluate\u001b[0;34m()\u001b[0m\n\u001b[1;32m      4\u001b[0m \u001b[0;34m\u001b[0m\u001b[0m\n\u001b[1;32m      5\u001b[0m     \u001b[0;32mdef\u001b[0m \u001b[0mevaluate\u001b[0m\u001b[0;34m(\u001b[0m\u001b[0;34m)\u001b[0m\u001b[0;34m:\u001b[0m\u001b[0;34m\u001b[0m\u001b[0;34m\u001b[0m\u001b[0m\n\u001b[0;32m----> 6\u001b[0;31m       \u001b[0;32mreturn\u001b[0m \u001b[0mnp\u001b[0m\u001b[0;34m.\u001b[0m\u001b[0msqrt\u001b[0m\u001b[0;34m(\u001b[0m\u001b[0mnp\u001b[0m\u001b[0;34m.\u001b[0m\u001b[0mmean\u001b[0m\u001b[0;34m(\u001b[0m\u001b[0mnp\u001b[0m\u001b[0;34m.\u001b[0m\u001b[0mapply_along_axis\u001b[0m\u001b[0;34m(\u001b[0m\u001b[0;32mlambda\u001b[0m \u001b[0mx\u001b[0m\u001b[0;34m:\u001b[0m \u001b[0;34m(\u001b[0m\u001b[0mx\u001b[0m\u001b[0;34m[\u001b[0m\u001b[0;36m2\u001b[0m\u001b[0;34m]\u001b[0m \u001b[0;34m-\u001b[0m \u001b[0mnp\u001b[0m\u001b[0;34m.\u001b[0m\u001b[0mdot\u001b[0m\u001b[0;34m(\u001b[0m\u001b[0mU\u001b[0m\u001b[0;34m[\u001b[0m\u001b[0mx\u001b[0m\u001b[0;34m[\u001b[0m\u001b[0;36m0\u001b[0m\u001b[0;34m]\u001b[0m\u001b[0;34m]\u001b[0m\u001b[0;34m,\u001b[0m \u001b[0mM\u001b[0m\u001b[0;34m[\u001b[0m\u001b[0mx\u001b[0m\u001b[0;34m[\u001b[0m\u001b[0;36m1\u001b[0m\u001b[0;34m]\u001b[0m\u001b[0;34m]\u001b[0m\u001b[0;34m)\u001b[0m\u001b[0;34m)\u001b[0m \u001b[0;34m**\u001b[0m \u001b[0;36m2\u001b[0m\u001b[0;34m,\u001b[0m \u001b[0;36m1\u001b[0m\u001b[0;34m,\u001b[0m \u001b[0mtrain_u\u001b[0m\u001b[0;34m)\u001b[0m\u001b[0;34m,\u001b[0m \u001b[0maxis\u001b[0m\u001b[0;34m=\u001b[0m\u001b[0;36m0\u001b[0m\u001b[0;34m)\u001b[0m\u001b[0;34m)\u001b[0m\u001b[0;34m\u001b[0m\u001b[0;34m\u001b[0m\u001b[0m\n\u001b[0m\u001b[1;32m      7\u001b[0m \u001b[0;34m\u001b[0m\u001b[0m\n\u001b[1;32m      8\u001b[0m     \u001b[0mrmse\u001b[0m \u001b[0;34m=\u001b[0m \u001b[0mevaluate\u001b[0m\u001b[0;34m(\u001b[0m\u001b[0;34m)\u001b[0m\u001b[0;34m\u001b[0m\u001b[0;34m\u001b[0m\u001b[0m\n",
      "\u001b[0;32m<__array_function__ internals>\u001b[0m in \u001b[0;36mapply_along_axis\u001b[0;34m(*args, **kwargs)\u001b[0m\n",
      "\u001b[0;32m~/virtualenvs/mlenv/lib/python3.6/site-packages/numpy/lib/shape_base.py\u001b[0m in \u001b[0;36mapply_along_axis\u001b[0;34m(func1d, axis, arr, *args, **kwargs)\u001b[0m\n\u001b[1;32m    400\u001b[0m     \u001b[0mbuff\u001b[0m\u001b[0;34m[\u001b[0m\u001b[0mind0\u001b[0m\u001b[0;34m]\u001b[0m \u001b[0;34m=\u001b[0m \u001b[0mres\u001b[0m\u001b[0;34m\u001b[0m\u001b[0;34m\u001b[0m\u001b[0m\n\u001b[1;32m    401\u001b[0m     \u001b[0;32mfor\u001b[0m \u001b[0mind\u001b[0m \u001b[0;32min\u001b[0m \u001b[0minds\u001b[0m\u001b[0;34m:\u001b[0m\u001b[0;34m\u001b[0m\u001b[0;34m\u001b[0m\u001b[0m\n\u001b[0;32m--> 402\u001b[0;31m         \u001b[0mbuff\u001b[0m\u001b[0;34m[\u001b[0m\u001b[0mind\u001b[0m\u001b[0;34m]\u001b[0m \u001b[0;34m=\u001b[0m \u001b[0masanyarray\u001b[0m\u001b[0;34m(\u001b[0m\u001b[0mfunc1d\u001b[0m\u001b[0;34m(\u001b[0m\u001b[0minarr_view\u001b[0m\u001b[0;34m[\u001b[0m\u001b[0mind\u001b[0m\u001b[0;34m]\u001b[0m\u001b[0;34m,\u001b[0m \u001b[0;34m*\u001b[0m\u001b[0margs\u001b[0m\u001b[0;34m,\u001b[0m \u001b[0;34m**\u001b[0m\u001b[0mkwargs\u001b[0m\u001b[0;34m)\u001b[0m\u001b[0;34m)\u001b[0m\u001b[0;34m\u001b[0m\u001b[0;34m\u001b[0m\u001b[0m\n\u001b[0m\u001b[1;32m    403\u001b[0m \u001b[0;34m\u001b[0m\u001b[0m\n\u001b[1;32m    404\u001b[0m     \u001b[0;32mif\u001b[0m \u001b[0;32mnot\u001b[0m \u001b[0misinstance\u001b[0m\u001b[0;34m(\u001b[0m\u001b[0mres\u001b[0m\u001b[0;34m,\u001b[0m \u001b[0mmatrix\u001b[0m\u001b[0;34m)\u001b[0m\u001b[0;34m:\u001b[0m\u001b[0;34m\u001b[0m\u001b[0;34m\u001b[0m\u001b[0m\n",
      "\u001b[0;32m<ipython-input-69-af04d9e579ed>\u001b[0m in \u001b[0;36m<lambda>\u001b[0;34m(x)\u001b[0m\n\u001b[1;32m      4\u001b[0m \u001b[0;34m\u001b[0m\u001b[0m\n\u001b[1;32m      5\u001b[0m     \u001b[0;32mdef\u001b[0m \u001b[0mevaluate\u001b[0m\u001b[0;34m(\u001b[0m\u001b[0;34m)\u001b[0m\u001b[0;34m:\u001b[0m\u001b[0;34m\u001b[0m\u001b[0;34m\u001b[0m\u001b[0m\n\u001b[0;32m----> 6\u001b[0;31m       \u001b[0;32mreturn\u001b[0m \u001b[0mnp\u001b[0m\u001b[0;34m.\u001b[0m\u001b[0msqrt\u001b[0m\u001b[0;34m(\u001b[0m\u001b[0mnp\u001b[0m\u001b[0;34m.\u001b[0m\u001b[0mmean\u001b[0m\u001b[0;34m(\u001b[0m\u001b[0mnp\u001b[0m\u001b[0;34m.\u001b[0m\u001b[0mapply_along_axis\u001b[0m\u001b[0;34m(\u001b[0m\u001b[0;32mlambda\u001b[0m \u001b[0mx\u001b[0m\u001b[0;34m:\u001b[0m \u001b[0;34m(\u001b[0m\u001b[0mx\u001b[0m\u001b[0;34m[\u001b[0m\u001b[0;36m2\u001b[0m\u001b[0;34m]\u001b[0m \u001b[0;34m-\u001b[0m \u001b[0mnp\u001b[0m\u001b[0;34m.\u001b[0m\u001b[0mdot\u001b[0m\u001b[0;34m(\u001b[0m\u001b[0mU\u001b[0m\u001b[0;34m[\u001b[0m\u001b[0mx\u001b[0m\u001b[0;34m[\u001b[0m\u001b[0;36m0\u001b[0m\u001b[0;34m]\u001b[0m\u001b[0;34m]\u001b[0m\u001b[0;34m,\u001b[0m \u001b[0mM\u001b[0m\u001b[0;34m[\u001b[0m\u001b[0mx\u001b[0m\u001b[0;34m[\u001b[0m\u001b[0;36m1\u001b[0m\u001b[0;34m]\u001b[0m\u001b[0;34m]\u001b[0m\u001b[0;34m)\u001b[0m\u001b[0;34m)\u001b[0m \u001b[0;34m**\u001b[0m \u001b[0;36m2\u001b[0m\u001b[0;34m,\u001b[0m \u001b[0;36m1\u001b[0m\u001b[0;34m,\u001b[0m \u001b[0mtrain_u\u001b[0m\u001b[0;34m)\u001b[0m\u001b[0;34m,\u001b[0m \u001b[0maxis\u001b[0m\u001b[0;34m=\u001b[0m\u001b[0;36m0\u001b[0m\u001b[0;34m)\u001b[0m\u001b[0;34m)\u001b[0m\u001b[0;34m\u001b[0m\u001b[0;34m\u001b[0m\u001b[0m\n\u001b[0m\u001b[1;32m      7\u001b[0m \u001b[0;34m\u001b[0m\u001b[0m\n\u001b[1;32m      8\u001b[0m     \u001b[0mrmse\u001b[0m \u001b[0;34m=\u001b[0m \u001b[0mevaluate\u001b[0m\u001b[0;34m(\u001b[0m\u001b[0;34m)\u001b[0m\u001b[0;34m\u001b[0m\u001b[0;34m\u001b[0m\u001b[0m\n",
      "\u001b[0;31mKeyboardInterrupt\u001b[0m: "
     ]
    }
   ],
   "source": [
    "alt_min(30, 0.1)"
   ]
  },
  {
   "cell_type": "code",
   "execution_count": 59,
   "metadata": {},
   "outputs": [],
   "source": [
    "num_factors = 30\n",
    "epochs = 1\n",
    "\n",
    "def alt_min(num_factors, learning_rate):\n",
    "  model = MatrixFactorization(num_users, num_items, num_factors)\n",
    "  params = list(model.parameters())\n",
    "  user_optimizer = torch.optim.SGD([params[0]], lr=learning_rate)\n",
    "  item_optimizer = torch.optim.SGD([params[1]], lr=learning_rate)\n",
    "  loss_fn = nn.MSELoss()\n",
    "\n",
    "  for i in range(epochs):\n",
    "    for (idx, [user, item, _, rating, _]) in train.iterrows():\n",
    "      prediction = model(torch.LongTensor([user]), torch.LongTensor([item]))\n",
    "      loss = loss_fn(prediction, torch.FloatTensor([rating]))\n",
    "      grad = loss.backward()\n",
    "      print(grad)\n",
    "      user_optimizer.step()\n",
    "      model.zero_grad()"
   ]
  },
  {
   "cell_type": "code",
   "execution_count": 25,
   "metadata": {},
   "outputs": [],
   "source": [
    "avg_item_ratings = np.zeros(num_items)\n",
    "for (item, df) in train.groupby(\"item\"):\n",
    "  avg_item_ratings[item] = np.mean(df[\"rating\"].values)"
   ]
  },
  {
   "cell_type": "code",
   "execution_count": 33,
   "metadata": {},
   "outputs": [],
   "source": [
    "train_shuffled = train.sample(frac=1).reset_index(drop=True)"
   ]
  },
  {
   "cell_type": "code",
   "execution_count": 36,
   "metadata": {},
   "outputs": [
    {
     "data": {
      "text/plain": [
       "800193"
      ]
     },
     "execution_count": 36,
     "metadata": {},
     "output_type": "execute_result"
    }
   ],
   "source": [
    "len(train_shuffled)"
   ]
  },
  {
   "cell_type": "code",
   "execution_count": 58,
   "metadata": {},
   "outputs": [],
   "source": [
    "class MatrixFactorization(nn.Module):\n",
    "  def __init__(self, num_users, num_items, num_factors):\n",
    "    super().__init__()\n",
    "    self.user_factors = nn.Embedding(num_users, num_factors, sparse=False)\n",
    "    self.item_factors = nn.Embedding(num_items, num_factors, sparse=False)\n",
    "    \n",
    "    self.user_factors.weight.data.uniform_(-0.25, 0.25)\n",
    "    self.item_factors.weight.data.uniform_(-0.25, 0.25)\n",
    "    \n",
    "  def forward(self, users, items):\n",
    "    return torch.diagonal(torch.mm(self.user_factors(users), torch.transpose(self.item_factors(items), 0, 1)))"
   ]
  },
  {
   "cell_type": "code",
   "execution_count": 40,
   "metadata": {},
   "outputs": [],
   "source": [
    "epochs = 10\n",
    "\n",
    "def alt_min(num_factors, lrate):\n",
    "  M = np.random.uniform(0, 0.25, (num_items, num_factors))\n",
    "  # M[:, 0] = avg_item_ratings\n",
    "  U = np.ones((num_users, num_factors))\n",
    "  U_prev = np.zeros((num_users, num_factors))\n",
    "  U_freqs = train.groupby(\"user\").size().values.reshape(-1, 1)    \n",
    "    \n",
    "  for i in range(epochs):\n",
    "    U_step = np.zeros((num_users, num_factors))\n",
    "    total_loss = 0\n",
    "    for (idx, [user, item, _, rating, _]) in train_shuffled.iterrows():\n",
    "      residual = rating - np.dot(U[user], M[item])\n",
    "      total_loss += residual ** 2\n",
    "      U_step[user] += residual * M[item]\n",
    "    \n",
    "    U_step = lrate * (U_step / U_freqs)\n",
    "    U += U_step\n",
    "    print(\"EPOCH 1\\nStep L2 Norm: {}\\nRMSE: {}\".format(np.linalg.norm(U_step), np.sqrt(total_loss / len(train_shuffled))))\n",
    "    \n",
    "          \n",
    "      \n",
    "    \n",
    "  \n",
    "  "
   ]
  },
  {
   "cell_type": "code",
   "execution_count": 43,
   "metadata": {
    "scrolled": false
   },
   "outputs": [
    {
     "name": "stdout",
     "output_type": "stream",
     "text": [
      "0\n",
      "200000\n",
      "400000\n",
      "600000\n",
      "800000\n",
      "EPOCH 1\n",
      "Step L2 Norm: 12.253237942641325\n",
      "RMSE: 1.2000548624106067\n",
      "0\n",
      "200000\n",
      "400000\n",
      "600000\n",
      "800000\n",
      "EPOCH 1\n",
      "Step L2 Norm: 9.43106566112119\n",
      "RMSE: 1.1570828266019815\n",
      "0\n",
      "200000\n",
      "400000\n",
      "600000\n",
      "800000\n",
      "EPOCH 1\n",
      "Step L2 Norm: 7.318747459406452\n",
      "RMSE: 1.1311688881735902\n",
      "0\n",
      "200000\n",
      "400000\n",
      "600000\n",
      "800000\n",
      "EPOCH 1\n",
      "Step L2 Norm: 5.752674947704704\n",
      "RMSE: 1.1156156609148236\n",
      "0\n",
      "200000\n",
      "400000\n",
      "600000\n",
      "800000\n",
      "EPOCH 1\n",
      "Step L2 Norm: 4.6083465600404665\n",
      "RMSE: 1.1062456775370202\n",
      "0\n",
      "200000\n"
     ]
    },
    {
     "ename": "KeyboardInterrupt",
     "evalue": "",
     "output_type": "error",
     "traceback": [
      "\u001b[0;31m---------------------------------------------------------------------------\u001b[0m",
      "\u001b[0;31mKeyboardInterrupt\u001b[0m                         Traceback (most recent call last)",
      "\u001b[0;32m<ipython-input-43-99c52dde1346>\u001b[0m in \u001b[0;36m<module>\u001b[0;34m\u001b[0m\n\u001b[0;32m----> 1\u001b[0;31m \u001b[0malt_min\u001b[0m\u001b[0;34m(\u001b[0m\u001b[0;36m30\u001b[0m\u001b[0;34m,\u001b[0m \u001b[0;36m0.5\u001b[0m\u001b[0;34m)\u001b[0m\u001b[0;34m\u001b[0m\u001b[0;34m\u001b[0m\u001b[0m\n\u001b[0m",
      "\u001b[0;32m<ipython-input-40-79def4209679>\u001b[0m in \u001b[0;36malt_min\u001b[0;34m(num_factors, lrate)\u001b[0m\n\u001b[1;32m     11\u001b[0m     \u001b[0mU_step\u001b[0m \u001b[0;34m=\u001b[0m \u001b[0mnp\u001b[0m\u001b[0;34m.\u001b[0m\u001b[0mzeros\u001b[0m\u001b[0;34m(\u001b[0m\u001b[0;34m(\u001b[0m\u001b[0mnum_users\u001b[0m\u001b[0;34m,\u001b[0m \u001b[0mnum_factors\u001b[0m\u001b[0;34m)\u001b[0m\u001b[0;34m)\u001b[0m\u001b[0;34m\u001b[0m\u001b[0;34m\u001b[0m\u001b[0m\n\u001b[1;32m     12\u001b[0m     \u001b[0mtotal_loss\u001b[0m \u001b[0;34m=\u001b[0m \u001b[0;36m0\u001b[0m\u001b[0;34m\u001b[0m\u001b[0;34m\u001b[0m\u001b[0m\n\u001b[0;32m---> 13\u001b[0;31m     \u001b[0;32mfor\u001b[0m \u001b[0;34m(\u001b[0m\u001b[0midx\u001b[0m\u001b[0;34m,\u001b[0m \u001b[0;34m[\u001b[0m\u001b[0muser\u001b[0m\u001b[0;34m,\u001b[0m \u001b[0mitem\u001b[0m\u001b[0;34m,\u001b[0m \u001b[0m_\u001b[0m\u001b[0;34m,\u001b[0m \u001b[0mrating\u001b[0m\u001b[0;34m,\u001b[0m \u001b[0m_\u001b[0m\u001b[0;34m]\u001b[0m\u001b[0;34m)\u001b[0m \u001b[0;32min\u001b[0m \u001b[0mtrain_shuffled\u001b[0m\u001b[0;34m.\u001b[0m\u001b[0miterrows\u001b[0m\u001b[0;34m(\u001b[0m\u001b[0;34m)\u001b[0m\u001b[0;34m:\u001b[0m\u001b[0;34m\u001b[0m\u001b[0;34m\u001b[0m\u001b[0m\n\u001b[0m\u001b[1;32m     14\u001b[0m       \u001b[0mresidual\u001b[0m \u001b[0;34m=\u001b[0m \u001b[0mrating\u001b[0m \u001b[0;34m-\u001b[0m \u001b[0mnp\u001b[0m\u001b[0;34m.\u001b[0m\u001b[0mdot\u001b[0m\u001b[0;34m(\u001b[0m\u001b[0mU\u001b[0m\u001b[0;34m[\u001b[0m\u001b[0muser\u001b[0m\u001b[0;34m]\u001b[0m\u001b[0;34m,\u001b[0m \u001b[0mM\u001b[0m\u001b[0;34m[\u001b[0m\u001b[0mitem\u001b[0m\u001b[0;34m]\u001b[0m\u001b[0;34m)\u001b[0m\u001b[0;34m\u001b[0m\u001b[0;34m\u001b[0m\u001b[0m\n\u001b[1;32m     15\u001b[0m       \u001b[0mtotal_loss\u001b[0m \u001b[0;34m+=\u001b[0m \u001b[0mresidual\u001b[0m \u001b[0;34m**\u001b[0m \u001b[0;36m2\u001b[0m\u001b[0;34m\u001b[0m\u001b[0;34m\u001b[0m\u001b[0m\n",
      "\u001b[0;32m~/virtualenvs/mlenv/lib/python3.6/site-packages/pandas/core/frame.py\u001b[0m in \u001b[0;36miterrows\u001b[0;34m(self)\u001b[0m\n\u001b[1;32m    907\u001b[0m         \u001b[0mklass\u001b[0m \u001b[0;34m=\u001b[0m \u001b[0mself\u001b[0m\u001b[0;34m.\u001b[0m\u001b[0m_constructor_sliced\u001b[0m\u001b[0;34m\u001b[0m\u001b[0;34m\u001b[0m\u001b[0m\n\u001b[1;32m    908\u001b[0m         \u001b[0;32mfor\u001b[0m \u001b[0mk\u001b[0m\u001b[0;34m,\u001b[0m \u001b[0mv\u001b[0m \u001b[0;32min\u001b[0m \u001b[0mzip\u001b[0m\u001b[0;34m(\u001b[0m\u001b[0mself\u001b[0m\u001b[0;34m.\u001b[0m\u001b[0mindex\u001b[0m\u001b[0;34m,\u001b[0m \u001b[0mself\u001b[0m\u001b[0;34m.\u001b[0m\u001b[0mvalues\u001b[0m\u001b[0;34m)\u001b[0m\u001b[0;34m:\u001b[0m\u001b[0;34m\u001b[0m\u001b[0;34m\u001b[0m\u001b[0m\n\u001b[0;32m--> 909\u001b[0;31m             \u001b[0ms\u001b[0m \u001b[0;34m=\u001b[0m \u001b[0mklass\u001b[0m\u001b[0;34m(\u001b[0m\u001b[0mv\u001b[0m\u001b[0;34m,\u001b[0m \u001b[0mindex\u001b[0m\u001b[0;34m=\u001b[0m\u001b[0mcolumns\u001b[0m\u001b[0;34m,\u001b[0m \u001b[0mname\u001b[0m\u001b[0;34m=\u001b[0m\u001b[0mk\u001b[0m\u001b[0;34m)\u001b[0m\u001b[0;34m\u001b[0m\u001b[0;34m\u001b[0m\u001b[0m\n\u001b[0m\u001b[1;32m    910\u001b[0m             \u001b[0;32myield\u001b[0m \u001b[0mk\u001b[0m\u001b[0;34m,\u001b[0m \u001b[0ms\u001b[0m\u001b[0;34m\u001b[0m\u001b[0;34m\u001b[0m\u001b[0m\n\u001b[1;32m    911\u001b[0m \u001b[0;34m\u001b[0m\u001b[0m\n",
      "\u001b[0;32m~/virtualenvs/mlenv/lib/python3.6/site-packages/pandas/core/series.py\u001b[0m in \u001b[0;36m__init__\u001b[0;34m(self, data, index, dtype, name, copy, fastpath)\u001b[0m\n\u001b[1;32m    312\u001b[0m                     \u001b[0mdata\u001b[0m \u001b[0;34m=\u001b[0m \u001b[0mdata\u001b[0m\u001b[0;34m.\u001b[0m\u001b[0mcopy\u001b[0m\u001b[0;34m(\u001b[0m\u001b[0;34m)\u001b[0m\u001b[0;34m\u001b[0m\u001b[0;34m\u001b[0m\u001b[0m\n\u001b[1;32m    313\u001b[0m             \u001b[0;32melse\u001b[0m\u001b[0;34m:\u001b[0m\u001b[0;34m\u001b[0m\u001b[0;34m\u001b[0m\u001b[0m\n\u001b[0;32m--> 314\u001b[0;31m                 \u001b[0mdata\u001b[0m \u001b[0;34m=\u001b[0m \u001b[0msanitize_array\u001b[0m\u001b[0;34m(\u001b[0m\u001b[0mdata\u001b[0m\u001b[0;34m,\u001b[0m \u001b[0mindex\u001b[0m\u001b[0;34m,\u001b[0m \u001b[0mdtype\u001b[0m\u001b[0;34m,\u001b[0m \u001b[0mcopy\u001b[0m\u001b[0;34m,\u001b[0m \u001b[0mraise_cast_failure\u001b[0m\u001b[0;34m=\u001b[0m\u001b[0;32mTrue\u001b[0m\u001b[0;34m)\u001b[0m\u001b[0;34m\u001b[0m\u001b[0;34m\u001b[0m\u001b[0m\n\u001b[0m\u001b[1;32m    315\u001b[0m \u001b[0;34m\u001b[0m\u001b[0m\n\u001b[1;32m    316\u001b[0m                 \u001b[0mdata\u001b[0m \u001b[0;34m=\u001b[0m \u001b[0mSingleBlockManager\u001b[0m\u001b[0;34m(\u001b[0m\u001b[0mdata\u001b[0m\u001b[0;34m,\u001b[0m \u001b[0mindex\u001b[0m\u001b[0;34m,\u001b[0m \u001b[0mfastpath\u001b[0m\u001b[0;34m=\u001b[0m\u001b[0;32mTrue\u001b[0m\u001b[0;34m)\u001b[0m\u001b[0;34m\u001b[0m\u001b[0;34m\u001b[0m\u001b[0m\n",
      "\u001b[0;32m~/virtualenvs/mlenv/lib/python3.6/site-packages/pandas/core/internals/construction.py\u001b[0m in \u001b[0;36msanitize_array\u001b[0;34m(data, index, dtype, copy, raise_cast_failure)\u001b[0m\n\u001b[1;32m    662\u001b[0m         \u001b[0;32melse\u001b[0m\u001b[0;34m:\u001b[0m\u001b[0;34m\u001b[0m\u001b[0;34m\u001b[0m\u001b[0m\n\u001b[1;32m    663\u001b[0m             \u001b[0;31m# we will try to copy be-definition here\u001b[0m\u001b[0;34m\u001b[0m\u001b[0;34m\u001b[0m\u001b[0;34m\u001b[0m\u001b[0m\n\u001b[0;32m--> 664\u001b[0;31m             \u001b[0msubarr\u001b[0m \u001b[0;34m=\u001b[0m \u001b[0m_try_cast\u001b[0m\u001b[0;34m(\u001b[0m\u001b[0mdata\u001b[0m\u001b[0;34m,\u001b[0m \u001b[0mdtype\u001b[0m\u001b[0;34m,\u001b[0m \u001b[0mcopy\u001b[0m\u001b[0;34m,\u001b[0m \u001b[0mraise_cast_failure\u001b[0m\u001b[0;34m)\u001b[0m\u001b[0;34m\u001b[0m\u001b[0;34m\u001b[0m\u001b[0m\n\u001b[0m\u001b[1;32m    665\u001b[0m \u001b[0;34m\u001b[0m\u001b[0m\n\u001b[1;32m    666\u001b[0m     \u001b[0;32melif\u001b[0m \u001b[0misinstance\u001b[0m\u001b[0;34m(\u001b[0m\u001b[0mdata\u001b[0m\u001b[0;34m,\u001b[0m \u001b[0mExtensionArray\u001b[0m\u001b[0;34m)\u001b[0m\u001b[0;34m:\u001b[0m\u001b[0;34m\u001b[0m\u001b[0;34m\u001b[0m\u001b[0m\n",
      "\u001b[0;32m~/virtualenvs/mlenv/lib/python3.6/site-packages/pandas/core/internals/construction.py\u001b[0m in \u001b[0;36m_try_cast\u001b[0;34m(arr, dtype, copy, raise_cast_failure)\u001b[0m\n\u001b[1;32m    782\u001b[0m             \u001b[0msubarr\u001b[0m \u001b[0;34m=\u001b[0m \u001b[0mmaybe_cast_to_integer_array\u001b[0m\u001b[0;34m(\u001b[0m\u001b[0marr\u001b[0m\u001b[0;34m,\u001b[0m \u001b[0mdtype\u001b[0m\u001b[0;34m)\u001b[0m\u001b[0;34m\u001b[0m\u001b[0;34m\u001b[0m\u001b[0m\n\u001b[1;32m    783\u001b[0m \u001b[0;34m\u001b[0m\u001b[0m\n\u001b[0;32m--> 784\u001b[0;31m         \u001b[0msubarr\u001b[0m \u001b[0;34m=\u001b[0m \u001b[0mmaybe_cast_to_datetime\u001b[0m\u001b[0;34m(\u001b[0m\u001b[0marr\u001b[0m\u001b[0;34m,\u001b[0m \u001b[0mdtype\u001b[0m\u001b[0;34m)\u001b[0m\u001b[0;34m\u001b[0m\u001b[0;34m\u001b[0m\u001b[0m\n\u001b[0m\u001b[1;32m    785\u001b[0m         \u001b[0;31m# Take care in creating object arrays (but iterators are not\u001b[0m\u001b[0;34m\u001b[0m\u001b[0;34m\u001b[0m\u001b[0;34m\u001b[0m\u001b[0m\n\u001b[1;32m    786\u001b[0m         \u001b[0;31m# supported):\u001b[0m\u001b[0;34m\u001b[0m\u001b[0;34m\u001b[0m\u001b[0;34m\u001b[0m\u001b[0m\n",
      "\u001b[0;32m~/virtualenvs/mlenv/lib/python3.6/site-packages/pandas/core/dtypes/cast.py\u001b[0m in \u001b[0;36mmaybe_cast_to_datetime\u001b[0;34m(value, dtype, errors)\u001b[0m\n\u001b[1;32m   1112\u001b[0m             )\n\u001b[1;32m   1113\u001b[0m         ):\n\u001b[0;32m-> 1114\u001b[0;31m             \u001b[0mvalue\u001b[0m \u001b[0;34m=\u001b[0m \u001b[0mmaybe_infer_to_datetimelike\u001b[0m\u001b[0;34m(\u001b[0m\u001b[0mvalue\u001b[0m\u001b[0;34m)\u001b[0m\u001b[0;34m\u001b[0m\u001b[0;34m\u001b[0m\u001b[0m\n\u001b[0m\u001b[1;32m   1115\u001b[0m \u001b[0;34m\u001b[0m\u001b[0m\n\u001b[1;32m   1116\u001b[0m     \u001b[0;32mreturn\u001b[0m \u001b[0mvalue\u001b[0m\u001b[0;34m\u001b[0m\u001b[0;34m\u001b[0m\u001b[0m\n",
      "\u001b[0;32m~/virtualenvs/mlenv/lib/python3.6/site-packages/pandas/core/dtypes/cast.py\u001b[0m in \u001b[0;36mmaybe_infer_to_datetimelike\u001b[0;34m(value, convert_dates)\u001b[0m\n\u001b[1;32m    898\u001b[0m     \u001b[0;31m# TODO: why not timedelta?\u001b[0m\u001b[0;34m\u001b[0m\u001b[0;34m\u001b[0m\u001b[0;34m\u001b[0m\u001b[0m\n\u001b[1;32m    899\u001b[0m     if isinstance(\n\u001b[0;32m--> 900\u001b[0;31m         \u001b[0mvalue\u001b[0m\u001b[0;34m,\u001b[0m \u001b[0;34m(\u001b[0m\u001b[0mABCDatetimeIndex\u001b[0m\u001b[0;34m,\u001b[0m \u001b[0mABCPeriodIndex\u001b[0m\u001b[0;34m,\u001b[0m \u001b[0mABCDatetimeArray\u001b[0m\u001b[0;34m,\u001b[0m \u001b[0mABCPeriodArray\u001b[0m\u001b[0;34m)\u001b[0m\u001b[0;34m\u001b[0m\u001b[0;34m\u001b[0m\u001b[0m\n\u001b[0m\u001b[1;32m    901\u001b[0m     ):\n\u001b[1;32m    902\u001b[0m         \u001b[0;32mreturn\u001b[0m \u001b[0mvalue\u001b[0m\u001b[0;34m\u001b[0m\u001b[0;34m\u001b[0m\u001b[0m\n",
      "\u001b[0;32m~/virtualenvs/mlenv/lib/python3.6/site-packages/pandas/core/dtypes/generic.py\u001b[0m in \u001b[0;36m_check\u001b[0;34m(cls, inst)\u001b[0m\n\u001b[1;32m      7\u001b[0m     \u001b[0;34m@\u001b[0m\u001b[0mclassmethod\u001b[0m\u001b[0;34m\u001b[0m\u001b[0;34m\u001b[0m\u001b[0m\n\u001b[1;32m      8\u001b[0m     \u001b[0;32mdef\u001b[0m \u001b[0m_check\u001b[0m\u001b[0;34m(\u001b[0m\u001b[0mcls\u001b[0m\u001b[0;34m,\u001b[0m \u001b[0minst\u001b[0m\u001b[0;34m)\u001b[0m\u001b[0;34m:\u001b[0m\u001b[0;34m\u001b[0m\u001b[0;34m\u001b[0m\u001b[0m\n\u001b[0;32m----> 9\u001b[0;31m         \u001b[0;32mreturn\u001b[0m \u001b[0mgetattr\u001b[0m\u001b[0;34m(\u001b[0m\u001b[0minst\u001b[0m\u001b[0;34m,\u001b[0m \u001b[0mattr\u001b[0m\u001b[0;34m,\u001b[0m \u001b[0;34m\"_typ\"\u001b[0m\u001b[0;34m)\u001b[0m \u001b[0;32min\u001b[0m \u001b[0mcomp\u001b[0m\u001b[0;34m\u001b[0m\u001b[0;34m\u001b[0m\u001b[0m\n\u001b[0m\u001b[1;32m     10\u001b[0m \u001b[0;34m\u001b[0m\u001b[0m\n\u001b[1;32m     11\u001b[0m     \u001b[0mdct\u001b[0m \u001b[0;34m=\u001b[0m \u001b[0mdict\u001b[0m\u001b[0;34m(\u001b[0m\u001b[0m__instancecheck__\u001b[0m\u001b[0;34m=\u001b[0m\u001b[0m_check\u001b[0m\u001b[0;34m,\u001b[0m \u001b[0m__subclasscheck__\u001b[0m\u001b[0;34m=\u001b[0m\u001b[0m_check\u001b[0m\u001b[0;34m)\u001b[0m\u001b[0;34m\u001b[0m\u001b[0;34m\u001b[0m\u001b[0m\n",
      "\u001b[0;31mKeyboardInterrupt\u001b[0m: "
     ]
    }
   ],
   "source": [
    "alt_min(30, 0.5)"
   ]
  },
  {
   "cell_type": "code",
   "execution_count": null,
   "metadata": {},
   "outputs": [],
   "source": []
  }
 ],
 "metadata": {
  "kernelspec": {
   "display_name": "Python 3",
   "language": "python",
   "name": "python3"
  },
  "language_info": {
   "codemirror_mode": {
    "name": "ipython",
    "version": 3
   },
   "file_extension": ".py",
   "mimetype": "text/x-python",
   "name": "python",
   "nbconvert_exporter": "python",
   "pygments_lexer": "ipython3",
   "version": "3.6.8"
  }
 },
 "nbformat": 4,
 "nbformat_minor": 2
}
