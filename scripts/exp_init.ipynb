{
 "cells": [
  {
   "cell_type": "code",
   "execution_count": null,
   "metadata": {},
   "outputs": [],
   "source": [
    "import numpy as np\n",
    "import pandas as pd\n",
    "import plotly.express as px\n",
    "import lenskit.crossfold as xf\n",
    "from lenskit.algorithms.als import BiasedMF\n",
    "from lenskit.batch import predict\n",
    "from lenskit.metrics.predict import rmse"
   ]
  },
  {
   "cell_type": "code",
   "execution_count": null,
   "metadata": {},
   "outputs": [],
   "source": [
    "user_factors = np.random.rand(10000, 30)\n",
    "item_factors = np.random.rand(30, 1000)\n",
    "dense = np.matmul(user_factors, item_factors)"
   ]
  },
  {
   "cell_type": "code",
   "execution_count": null,
   "metadata": {},
   "outputs": [],
   "source": [
    "mask = np.random.rand(dense.shape[0], dense.shape[1])\n",
    "mask[mask < 0.95] = 0\n",
    "mask[mask != 0] = 1\n",
    "mask"
   ]
  },
  {
   "cell_type": "code",
   "execution_count": null,
   "metadata": {},
   "outputs": [],
   "source": [
    "sparse = np.multiply(dense, mask)"
   ]
  },
  {
   "cell_type": "code",
   "execution_count": null,
   "metadata": {},
   "outputs": [],
   "source": [
    "user_col = []\n",
    "item_col = []\n",
    "rating_col = []\n",
    "for i in range(sparse.shape[0]):\n",
    "  for j in range(sparse.shape[1]):\n",
    "    rating = sparse[i][j]\n",
    "    if rating > 0:\n",
    "      user_col.append(i)\n",
    "      item_col.append(j)\n",
    "      rating_col.append(rating)\n",
    "ratings = pd.DataFrame.from_dict({\"user\": user_col, \"item\": item_col, \"rating\": rating_col})"
   ]
  },
  {
   "cell_type": "code",
   "execution_count": null,
   "metadata": {},
   "outputs": [],
   "source": [
    "ratings.shape"
   ]
  },
  {
   "cell_type": "code",
   "execution_count": null,
   "metadata": {},
   "outputs": [],
   "source": [
    "train_test = next(xf.partition_users(ratings, 1, xf.SampleFrac(0.2)))\n",
    "train = train_test.train\n",
    "test = train_test.test"
   ]
  },
  {
   "cell_type": "code",
   "execution_count": null,
   "metadata": {},
   "outputs": [],
   "source": [
    "test.shape"
   ]
  },
  {
   "cell_type": "code",
   "execution_count": null,
   "metadata": {},
   "outputs": [],
   "source": [
    "model = BiasedMF(30, iterations=100, bias=False)"
   ]
  },
  {
   "cell_type": "code",
   "execution_count": null,
   "metadata": {},
   "outputs": [],
   "source": [
    "model_fit = model.fit(train)\n",
    "preds = predict(model, test)\n",
    "error = rmse(preds[\"prediction\"], preds[\"rating\"])"
   ]
  },
  {
   "cell_type": "code",
   "execution_count": null,
   "metadata": {},
   "outputs": [],
   "source": [
    "error"
   ]
  },
  {
   "cell_type": "code",
   "execution_count": null,
   "metadata": {},
   "outputs": [],
   "source": [
    "fig = px.histogram(ratings, x=\"rating\", histnorm=\"probability density\")\n",
    "fig.show()"
   ]
  },
  {
   "cell_type": "code",
   "execution_count": null,
   "metadata": {},
   "outputs": [],
   "source": [
    "fig = px.histogram(pd.DataFrame(noise_vals), x=0, histnorm=\"probability density\")\n",
    "fig.show()"
   ]
  },
  {
   "cell_type": "code",
   "execution_count": null,
   "metadata": {},
   "outputs": [],
   "source": [
    "noise_for_train_mask = np.random.rand(train.shape[0])\n",
    "noise_for_train_mask[noise_for_train_mask < 0.9] = 0\n",
    "noise_for_train_mask[noise_for_train_mask != 0] = 1\n",
    "#noise_for_train = np.multiply(((np.random.rand(train.shape[0]) * 20) - 10), noise_for_train_mask)\n",
    "noise_for_train = np.multiply(np.random.randn(train.shape[0]), noise_for_train_mask)"
   ]
  },
  {
   "cell_type": "code",
   "execution_count": null,
   "metadata": {},
   "outputs": [],
   "source": [
    "#noise_for_train = np.random.randn(train.shape[0])"
   ]
  },
  {
   "cell_type": "code",
   "execution_count": null,
   "metadata": {},
   "outputs": [],
   "source": [
    "len(np.nonzero(noise_for_train)[0])\n",
    "#noise_for_train[:50]"
   ]
  },
  {
   "cell_type": "code",
   "execution_count": null,
   "metadata": {},
   "outputs": [],
   "source": [
    "noisy_train = train.copy()\n",
    "assert(noisy_train.shape[0] == noise_for_train.shape[0])\n",
    "noisy_train[\"rating\"] += noise_for_train"
   ]
  },
  {
   "cell_type": "code",
   "execution_count": null,
   "metadata": {},
   "outputs": [],
   "source": [
    "model_fit = model.fit(train)\n",
    "preds = predict(model, test)\n",
    "error = rmse(preds[\"prediction\"], preds[\"rating\"])"
   ]
  },
  {
   "cell_type": "code",
   "execution_count": null,
   "metadata": {},
   "outputs": [],
   "source": [
    "error"
   ]
  },
  {
   "cell_type": "code",
   "execution_count": null,
   "metadata": {},
   "outputs": [],
   "source": [
    "noise_dense = (np.random.rand(dense.shape[0], dense.shape[1]) * 6) - 3\n",
    "#noise_dense = (np.random.randn(dense.shape[0], dense.shape[1]))\n",
    "noise_mask = np.random.rand(dense.shape[0], dense.shape[1])\n",
    "noise_mask[noise_mask < 0.90] = 0\n",
    "noise_mask[noise_mask != 0] = 1"
   ]
  },
  {
   "cell_type": "code",
   "execution_count": null,
   "metadata": {},
   "outputs": [],
   "source": [
    "#noise = np.multiply(noise_dense, mask)\n",
    "noise = np.multiply(np.multiply(noise_dense, noise_mask), mask)"
   ]
  },
  {
   "cell_type": "code",
   "execution_count": null,
   "metadata": {},
   "outputs": [],
   "source": [
    "noise_vals = [noise[i][j] for j in range(noise.shape[1]) for i in range(noise.shape[0]) if noise[i][j] != 0]"
   ]
  },
  {
   "cell_type": "code",
   "execution_count": null,
   "metadata": {},
   "outputs": [],
   "source": [
    "len(noise_vals)"
   ]
  },
  {
   "cell_type": "code",
   "execution_count": null,
   "metadata": {},
   "outputs": [],
   "source": [
    "noisy_train_test = next(xf.partition_users(noisy_ratings, 1, xf.SampleFrac(0.2)))\n",
    "noisy_train = noisy_train_test.train\n",
    "noisy_test = noisy_train_test.test"
   ]
  },
  {
   "cell_type": "code",
   "execution_count": null,
   "metadata": {},
   "outputs": [],
   "source": [
    "noisy_sparse = sparse + noise\n",
    "user_col = []\n",
    "item_col = []\n",
    "rating_col = []\n",
    "for i in range(noisy_sparse.shape[0]):\n",
    "  for j in range(noisy_sparse.shape[1]):\n",
    "    rating = noisy_sparse[i][j]\n",
    "    if rating > 0:\n",
    "      user_col.append(i)\n",
    "      item_col.append(j)\n",
    "      rating_col.append(rating)\n",
    "noisy_ratings = pd.DataFrame.from_dict({\"user\": user_col, \"item\": item_col, \"rating\": rating_col})"
   ]
  },
  {
   "cell_type": "code",
   "execution_count": null,
   "metadata": {},
   "outputs": [],
   "source": []
  }
 ],
 "metadata": {
  "kernelspec": {
   "display_name": "Python 3",
   "language": "python",
   "name": "python3"
  },
  "language_info": {
   "codemirror_mode": {
    "name": "ipython",
    "version": 3
   },
   "file_extension": ".py",
   "mimetype": "text/x-python",
   "name": "python",
   "nbconvert_exporter": "python",
   "pygments_lexer": "ipython3",
   "version": "3.7.5"
  }
 },
 "nbformat": 4,
 "nbformat_minor": 2
}
