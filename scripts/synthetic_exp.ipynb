{
 "cells": [
  {
   "cell_type": "code",
   "execution_count": null,
   "metadata": {},
   "outputs": [],
   "source": [
    "import sys\n",
    "import numpy as np\n",
    "import random\n",
    "import pandas as pd\n",
    "import pickle\n",
    "import time\n",
    "import alt_min"
   ]
  },
  {
   "cell_type": "code",
   "execution_count": null,
   "metadata": {},
   "outputs": [],
   "source": [
    "n = 200\n",
    "r = 20\n",
    "p = 0.1\n",
    "eta = 0.1\n",
    "c = 100"
   ]
  },
  {
   "cell_type": "code",
   "execution_count": 74,
   "metadata": {},
   "outputs": [],
   "source": [
    "U = np.random.standard_normal((n, r))\n",
    "V = np.random.standard_normal((r, n))\n",
    "L = np.matmul(U, V)"
   ]
  },
  {
   "cell_type": "code",
   "execution_count": 79,
   "metadata": {},
   "outputs": [],
   "source": [
    "row_corruptions = np.zeros(n).astype(int)\n",
    "col_corruptions = np.zeros(n).astype(int)\n",
    "mask_eta = np.zeros((n, n))\n",
    "entries = np.random.permutation(n * n)\n",
    "corruptions = 0\n",
    "for entry in entries:\n",
    "  row = (int)(entry / n)\n",
    "  col = entry % n\n",
    "  if row_corruptions[row] < n * eta and col_corruptions[col] < n * eta:\n",
    "    mask_eta[row][col] = 1\n",
    "    corruptions += 1\n",
    "    row_corruptions[row] += 1\n",
    "    col_corruptions[col] += 1\n",
    "  if corruptions == n * n * eta:\n",
    "    break"
   ]
  },
  {
   "cell_type": "code",
   "execution_count": 76,
   "metadata": {},
   "outputs": [],
   "source": [
    "S = np.random.uniform(-c, c, L.shape)\n",
    "S *= mask_eta"
   ]
  },
  {
   "cell_type": "code",
   "execution_count": 77,
   "metadata": {},
   "outputs": [
    {
     "data": {
      "text/plain": [
       "3996"
      ]
     },
     "execution_count": 77,
     "metadata": {},
     "output_type": "execute_result"
    }
   ],
   "source": [
    "len(S[S != 0])"
   ]
  },
  {
   "cell_type": "code",
   "execution_count": null,
   "metadata": {},
   "outputs": [],
   "source": [
    "for i in range(n):\n",
    "  for j in range(n):\n",
    "    if S[i][j] != 0:\n",
    "      print((i, j))"
   ]
  },
  {
   "cell_type": "code",
   "execution_count": null,
   "metadata": {},
   "outputs": [],
   "source": [
    "for i in range(n):\n",
    "  for j in range(n):\n",
    "    if mask_eta[i][j] != 0:\n",
    "      print((i, j))"
   ]
  },
  {
   "cell_type": "code",
   "execution_count": null,
   "metadata": {},
   "outputs": [],
   "source": [
    "for i in range(n):\n",
    "  print(len(mask_eta[i][mask_eta[i] != 0]))"
   ]
  },
  {
   "cell_type": "code",
   "execution_count": null,
   "metadata": {},
   "outputs": [],
   "source": [
    "mask_eta = np.random.rand(L.shape[0], L.shape[1])\n",
    "S = np.random.uniform(-c, c, L.shape)\n",
    "S[mask_eta < 1 - eta] = 0"
   ]
  },
  {
   "cell_type": "code",
   "execution_count": 63,
   "metadata": {},
   "outputs": [],
   "source": [
    "M = L + S\n",
    "mask_p = np.random.rand(M.shape[0], M.shape[1])\n",
    "mask_p[mask_p < 1 - p] = 0\n",
    "mask_p[mask_p != 0] = 1\n",
    "M_obs = np.multiply(M, mask_p)"
   ]
  },
  {
   "cell_type": "code",
   "execution_count": 64,
   "metadata": {},
   "outputs": [
    {
     "data": {
      "text/plain": [
       "3989"
      ]
     },
     "execution_count": 64,
     "metadata": {},
     "output_type": "execute_result"
    }
   ],
   "source": [
    "len(mask_p[mask_p != 0])"
   ]
  },
  {
   "cell_type": "code",
   "execution_count": null,
   "metadata": {},
   "outputs": [],
   "source": [
    "user_col = []\n",
    "item_col = []\n",
    "rating_col = []\n",
    "for i in range(M_obs.shape[0]):\n",
    "  for j in range(M_obs.shape[1]):\n",
    "    rating = M_obs[i][j]\n",
    "    if rating != 0:\n",
    "      user_col.append(i)\n",
    "      item_col.append(j)\n",
    "      rating_col.append(rating)\n",
    "train = pd.DataFrame.from_dict({\"user\": user_col, \"item\": item_col, \"rating\": rating_col})"
   ]
  },
  {
   "cell_type": "code",
   "execution_count": null,
   "metadata": {},
   "outputs": [],
   "source": [
    "user_col = []\n",
    "item_col = []\n",
    "rating_col = []\n",
    "for i in range(L.shape[0]):\n",
    "  for j in range(L.shape[1]):\n",
    "    rating = L[i][j]\n",
    "    user_col.append(i)\n",
    "    item_col.append(j)\n",
    "    rating_col.append(rating)\n",
    "test = pd.DataFrame.from_dict({\"user\": user_col, \"item\": item_col, \"rating\": rating_col})"
   ]
  },
  {
   "cell_type": "code",
   "execution_count": null,
   "metadata": {
    "scrolled": false
   },
   "outputs": [],
   "source": [
    "model = alt_min.LeastSquares(train, test, 2000, reg=0)\n",
    "model.alt_min()"
   ]
  },
  {
   "cell_type": "code",
   "execution_count": null,
   "metadata": {},
   "outputs": [],
   "source": [
    "train.loc[0][0]"
   ]
  },
  {
   "cell_type": "code",
   "execution_count": null,
   "metadata": {},
   "outputs": [],
   "source": [
    "train[\"user\"]"
   ]
  },
  {
   "cell_type": "code",
   "execution_count": null,
   "metadata": {},
   "outputs": [],
   "source": [
    "n = 10000\n",
    "d = 30\n",
    "eta = 0.1\n",
    "X = np.random.standard_normal((n, d))\n",
    "corrupt_idx = np.random.choice(n, (int)(eta * n), replace=False)\n",
    "X[corrupt_idx] = np.random.uniform(0, 1000, (len(corrupt_idx), d))\n",
    "est = alt_min.agnosticMeanGeneral(X, eta)\n",
    "index_array = np.argsort(np.linalg.norm(X, axis=1))\n",
    "robust_mean = np.mean(X[index_array][:(int)((1 - eta) * X.shape[0])], axis=0)\n",
    "print(\"mean norm: {}\".format(np.linalg.norm(np.mean(X, axis=0))))\n",
    "print(\"median norm: {}\".format(np.linalg.norm(np.median(X, axis=0))))\n",
    "print(\"est norm: {}\".format(np.linalg.norm(est)))\n",
    "print(\"robust norm: {}\".format(np.linalg.norm(robust_mean)))"
   ]
  },
  {
   "cell_type": "code",
   "execution_count": null,
   "metadata": {},
   "outputs": [],
   "source": [
    "robust_mean.shape"
   ]
  },
  {
   "cell_type": "code",
   "execution_count": null,
   "metadata": {},
   "outputs": [],
   "source": [
    "index_array"
   ]
  },
  {
   "cell_type": "code",
   "execution_count": null,
   "metadata": {},
   "outputs": [],
   "source": [
    "X"
   ]
  },
  {
   "cell_type": "code",
   "execution_count": null,
   "metadata": {},
   "outputs": [],
   "source": [
    "X[index_array][:(int)((1 - eta) * X.shape[0])]"
   ]
  },
  {
   "cell_type": "code",
   "execution_count": null,
   "metadata": {},
   "outputs": [],
   "source": [
    "np.linalg.norm(robust_mean)"
   ]
  },
  {
   "cell_type": "code",
   "execution_count": null,
   "metadata": {},
   "outputs": [],
   "source": [
    "robust_mean"
   ]
  },
  {
   "cell_type": "code",
   "execution_count": null,
   "metadata": {},
   "outputs": [],
   "source": [
    "np.linalg.norm(X, axis=1).astype(int)"
   ]
  },
  {
   "cell_type": "code",
   "execution_count": null,
   "metadata": {},
   "outputs": [],
   "source": []
  }
 ],
 "metadata": {
  "kernelspec": {
   "display_name": "Python 3",
   "language": "python",
   "name": "python3"
  },
  "language_info": {
   "codemirror_mode": {
    "name": "ipython",
    "version": 3
   },
   "file_extension": ".py",
   "mimetype": "text/x-python",
   "name": "python",
   "nbconvert_exporter": "python",
   "pygments_lexer": "ipython3",
   "version": "3.6.8"
  }
 },
 "nbformat": 4,
 "nbformat_minor": 2
}
