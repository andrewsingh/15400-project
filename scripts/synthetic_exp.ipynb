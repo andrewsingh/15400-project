{
 "cells": [
  {
   "cell_type": "code",
   "execution_count": 2,
   "metadata": {},
   "outputs": [],
   "source": [
    "import sys\n",
    "import numpy as np\n",
    "import random\n",
    "import pandas as pd\n",
    "import pickle\n",
    "import time\n",
    "import alt_min"
   ]
  },
  {
   "cell_type": "code",
   "execution_count": null,
   "metadata": {},
   "outputs": [],
   "source": [
    "U = np.random.standard_normal((2000, 40))\n",
    "V = np.random.standard_normal((40, 2000))\n",
    "L = np.matmul(U, V)"
   ]
  },
  {
   "cell_type": "code",
   "execution_count": null,
   "metadata": {},
   "outputs": [],
   "source": [
    "p = 0.1\n",
    "eta = 0.1\n",
    "c = 100\n",
    "mask_eta = np.random.rand(L.shape[0], L.shape[1])\n",
    "S = np.random.uniform(-c, c, L.shape)\n",
    "S[mask_eta < 1 - eta] = 0"
   ]
  },
  {
   "cell_type": "code",
   "execution_count": null,
   "metadata": {},
   "outputs": [],
   "source": [
    "M = L + S\n",
    "mask_p = np.random.rand(M.shape[0], M.shape[1])\n",
    "mask_p[mask_p < 1 - p] = 0\n",
    "mask_p[mask_p != 0] = 1\n",
    "M_obs = np.multiply(M, mask_p)"
   ]
  },
  {
   "cell_type": "code",
   "execution_count": null,
   "metadata": {},
   "outputs": [],
   "source": [
    "user_col = []\n",
    "item_col = []\n",
    "rating_col = []\n",
    "for i in range(M_obs.shape[0]):\n",
    "  for j in range(M_obs.shape[1]):\n",
    "    rating = M_obs[i][j]\n",
    "    if rating != 0:\n",
    "      user_col.append(i)\n",
    "      item_col.append(j)\n",
    "      rating_col.append(rating)\n",
    "train = pd.DataFrame.from_dict({\"user\": user_col, \"item\": item_col, \"rating\": rating_col})"
   ]
  },
  {
   "cell_type": "code",
   "execution_count": null,
   "metadata": {},
   "outputs": [],
   "source": [
    "user_col = []\n",
    "item_col = []\n",
    "rating_col = []\n",
    "for i in range(L.shape[0]):\n",
    "  for j in range(L.shape[1]):\n",
    "    rating = L[i][j]\n",
    "    user_col.append(i)\n",
    "    item_col.append(j)\n",
    "    rating_col.append(rating)\n",
    "test = pd.DataFrame.from_dict({\"user\": user_col, \"item\": item_col, \"rating\": rating_col})"
   ]
  },
  {
   "cell_type": "code",
   "execution_count": null,
   "metadata": {
    "scrolled": false
   },
   "outputs": [],
   "source": [
    "model = alt_min.LeastSquares(train, test, 2000, reg=0)\n",
    "model.alt_min()"
   ]
  },
  {
   "cell_type": "code",
   "execution_count": null,
   "metadata": {},
   "outputs": [],
   "source": [
    "train.loc[0][0]"
   ]
  },
  {
   "cell_type": "code",
   "execution_count": null,
   "metadata": {},
   "outputs": [],
   "source": [
    "train[\"user\"]"
   ]
  },
  {
   "cell_type": "code",
   "execution_count": 63,
   "metadata": {},
   "outputs": [
    {
     "name": "stdout",
     "output_type": "stream",
     "text": [
      "mean norm: 272.2268973453166\n",
      "median norm: 0.7616725546163047\n",
      "est norm: 0.10511281170789671\n",
      "robust norm: 0.055676777861700805\n"
     ]
    }
   ],
   "source": [
    "n = 10000\n",
    "d = 30\n",
    "eta = 0.1\n",
    "X = np.random.standard_normal((n, d))\n",
    "corrupt_idx = np.random.choice(n, (int)(eta * n), replace=False)\n",
    "X[corrupt_idx] = np.random.uniform(0, 1000, (len(corrupt_idx), d))\n",
    "est = alt_min.agnosticMeanGeneral(X, eta)\n",
    "index_array = np.argsort(np.linalg.norm(X, axis=1))\n",
    "robust_mean = np.mean(X[index_array][:(int)((1 - eta) * X.shape[0])], axis=0)\n",
    "print(\"mean norm: {}\".format(np.linalg.norm(np.mean(X, axis=0))))\n",
    "print(\"median norm: {}\".format(np.linalg.norm(np.median(X, axis=0))))\n",
    "print(\"est norm: {}\".format(np.linalg.norm(est)))\n",
    "print(\"robust norm: {}\".format(np.linalg.norm(robust_mean)))"
   ]
  },
  {
   "cell_type": "code",
   "execution_count": 58,
   "metadata": {},
   "outputs": [
    {
     "data": {
      "text/plain": [
       "(30,)"
      ]
     },
     "execution_count": 58,
     "metadata": {},
     "output_type": "execute_result"
    }
   ],
   "source": [
    "robust_mean.shape"
   ]
  },
  {
   "cell_type": "code",
   "execution_count": 44,
   "metadata": {},
   "outputs": [
    {
     "data": {
      "text/plain": [
       "array([ 4, 15,  1,  6, 10, 13,  8,  5,  3, 17,  2, 12,  9,  0, 11, 18, 16,\n",
       "        7, 14, 19])"
      ]
     },
     "execution_count": 44,
     "metadata": {},
     "output_type": "execute_result"
    }
   ],
   "source": [
    "index_array"
   ]
  },
  {
   "cell_type": "code",
   "execution_count": 47,
   "metadata": {},
   "outputs": [
    {
     "data": {
      "text/plain": [
       "array([[-1.19282474],\n",
       "       [-0.2358787 ],\n",
       "       [ 0.83768884],\n",
       "       [-0.67290617],\n",
       "       [ 0.2156672 ],\n",
       "       [ 0.62902659],\n",
       "       [-0.4714253 ],\n",
       "       [ 1.61692698],\n",
       "       [ 0.59423301],\n",
       "       [-0.9857446 ],\n",
       "       [-0.47262554],\n",
       "       [-1.22230026],\n",
       "       [-0.89191167],\n",
       "       [ 0.57553509],\n",
       "       [49.06853728],\n",
       "       [ 0.22881141],\n",
       "       [ 1.5529134 ],\n",
       "       [-0.80332523],\n",
       "       [-1.32488321],\n",
       "       [99.00314456]])"
      ]
     },
     "execution_count": 47,
     "metadata": {},
     "output_type": "execute_result"
    }
   ],
   "source": [
    "X"
   ]
  },
  {
   "cell_type": "code",
   "execution_count": 46,
   "metadata": {},
   "outputs": [
    {
     "data": {
      "text/plain": [
       "array([[ 0.2156672 ],\n",
       "       [ 0.22881141],\n",
       "       [-0.2358787 ],\n",
       "       [-0.4714253 ],\n",
       "       [-0.47262554],\n",
       "       [ 0.57553509],\n",
       "       [ 0.59423301],\n",
       "       [ 0.62902659],\n",
       "       [-0.67290617],\n",
       "       [-0.80332523],\n",
       "       [ 0.83768884],\n",
       "       [-0.89191167],\n",
       "       [-0.9857446 ],\n",
       "       [-1.19282474],\n",
       "       [-1.22230026],\n",
       "       [-1.32488321],\n",
       "       [ 1.5529134 ],\n",
       "       [ 1.61692698]])"
      ]
     },
     "execution_count": 46,
     "metadata": {},
     "output_type": "execute_result"
    }
   ],
   "source": [
    "X[index_array][:(int)((1 - eta) * X.shape[0])]"
   ]
  },
  {
   "cell_type": "code",
   "execution_count": 23,
   "metadata": {},
   "outputs": [
    {
     "data": {
      "text/plain": [
       "11.18050520654395"
      ]
     },
     "execution_count": 23,
     "metadata": {},
     "output_type": "execute_result"
    }
   ],
   "source": [
    "np.linalg.norm(robust_mean)"
   ]
  },
  {
   "cell_type": "code",
   "execution_count": 49,
   "metadata": {},
   "outputs": [
    {
     "data": {
      "text/plain": [
       "array([-0.11239016])"
      ]
     },
     "execution_count": 49,
     "metadata": {},
     "output_type": "execute_result"
    }
   ],
   "source": [
    "robust_mean"
   ]
  },
  {
   "cell_type": "code",
   "execution_count": 45,
   "metadata": {},
   "outputs": [
    {
     "data": {
      "text/plain": [
       "array([ 1,  0,  0,  0,  0,  0,  0,  1,  0,  0,  0,  1,  0,  0, 49,  0,  1,\n",
       "        0,  1, 99])"
      ]
     },
     "execution_count": 45,
     "metadata": {},
     "output_type": "execute_result"
    }
   ],
   "source": [
    "np.linalg.norm(X, axis=1).astype(int)"
   ]
  },
  {
   "cell_type": "code",
   "execution_count": null,
   "metadata": {},
   "outputs": [],
   "source": []
  }
 ],
 "metadata": {
  "kernelspec": {
   "display_name": "Python 3",
   "language": "python",
   "name": "python3"
  },
  "language_info": {
   "codemirror_mode": {
    "name": "ipython",
    "version": 3
   },
   "file_extension": ".py",
   "mimetype": "text/x-python",
   "name": "python",
   "nbconvert_exporter": "python",
   "pygments_lexer": "ipython3",
   "version": "3.6.9"
  }
 },
 "nbformat": 4,
 "nbformat_minor": 2
}
