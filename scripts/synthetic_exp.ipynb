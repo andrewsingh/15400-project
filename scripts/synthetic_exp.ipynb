{
 "cells": [
  {
   "cell_type": "code",
   "execution_count": null,
   "metadata": {},
   "outputs": [],
   "source": [
    "import sys\n",
    "import numpy as np\n",
    "import random\n",
    "import pandas as pd\n",
    "import pickle\n",
    "import time\n",
    "import alt_min"
   ]
  },
  {
   "cell_type": "code",
   "execution_count": null,
   "metadata": {},
   "outputs": [],
   "source": [
    "U = np.random.standard_normal((2000, 40))\n",
    "V = np.random.standard_normal((40, 2000))\n",
    "L = np.matmul(U, V)"
   ]
  },
  {
   "cell_type": "code",
   "execution_count": null,
   "metadata": {},
   "outputs": [],
   "source": [
    "p = 0.1\n",
    "eta = 0.1\n",
    "c = 100\n",
    "mask_eta = np.random.rand(L.shape[0], L.shape[1])\n",
    "S = np.random.uniform(-c, c, L.shape)\n",
    "S[mask_eta < 1 - eta] = 0"
   ]
  },
  {
   "cell_type": "code",
   "execution_count": null,
   "metadata": {},
   "outputs": [],
   "source": [
    "M = L + S\n",
    "mask_p = np.random.rand(M.shape[0], M.shape[1])\n",
    "mask_p[mask_p < 1 - p] = 0\n",
    "mask_p[mask_p != 0] = 1\n",
    "M_obs = np.multiply(M, mask_p)"
   ]
  },
  {
   "cell_type": "code",
   "execution_count": null,
   "metadata": {},
   "outputs": [],
   "source": [
    "user_col = []\n",
    "item_col = []\n",
    "rating_col = []\n",
    "for i in range(M_obs.shape[0]):\n",
    "  for j in range(M_obs.shape[1]):\n",
    "    rating = M_obs[i][j]\n",
    "    if rating != 0:\n",
    "      user_col.append(i)\n",
    "      item_col.append(j)\n",
    "      rating_col.append(rating)\n",
    "train = pd.DataFrame.from_dict({\"user\": user_col, \"item\": item_col, \"rating\": rating_col})"
   ]
  },
  {
   "cell_type": "code",
   "execution_count": null,
   "metadata": {},
   "outputs": [],
   "source": [
    "user_col = []\n",
    "item_col = []\n",
    "rating_col = []\n",
    "for i in range(L.shape[0]):\n",
    "  for j in range(L.shape[1]):\n",
    "    rating = L[i][j]\n",
    "    user_col.append(i)\n",
    "    item_col.append(j)\n",
    "    rating_col.append(rating)\n",
    "test = pd.DataFrame.from_dict({\"user\": user_col, \"item\": item_col, \"rating\": rating_col})"
   ]
  },
  {
   "cell_type": "code",
   "execution_count": null,
   "metadata": {
    "scrolled": false
   },
   "outputs": [],
   "source": [
    "model = alt_min.LeastSquares(train, test, 2000, reg=0)\n",
    "model.alt_min()"
   ]
  },
  {
   "cell_type": "code",
   "execution_count": null,
   "metadata": {},
   "outputs": [],
   "source": [
    "train.loc[0][0]"
   ]
  },
  {
   "cell_type": "code",
   "execution_count": null,
   "metadata": {},
   "outputs": [],
   "source": [
    "train[\"user\"]"
   ]
  },
  {
   "cell_type": "code",
   "execution_count": null,
   "metadata": {},
   "outputs": [],
   "source": []
  }
 ],
 "metadata": {
  "kernelspec": {
   "display_name": "Python 3",
   "language": "python",
   "name": "python3"
  },
  "language_info": {
   "codemirror_mode": {
    "name": "ipython",
    "version": 3
   },
   "file_extension": ".py",
   "mimetype": "text/x-python",
   "name": "python",
   "nbconvert_exporter": "python",
   "pygments_lexer": "ipython3",
   "version": "3.6.8"
  }
 },
 "nbformat": 4,
 "nbformat_minor": 2
}
