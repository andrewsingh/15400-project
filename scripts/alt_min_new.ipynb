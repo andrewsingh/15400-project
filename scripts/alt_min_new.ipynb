{
 "cells": [
  {
   "cell_type": "code",
   "execution_count": 2,
   "metadata": {},
   "outputs": [],
   "source": [
    "import sys\n",
    "import numpy as np\n",
    "import random\n",
    "import pandas as pd\n",
    "import pickle\n",
    "import time\n",
    "from lenskit.algorithms.als import BiasedMF\n",
    "from lenskit.batch import predict\n",
    "from lenskit.metrics.predict import rmse"
   ]
  },
  {
   "cell_type": "code",
   "execution_count": 74,
   "metadata": {},
   "outputs": [],
   "source": [
    "verbose = False\n",
    "\n",
    "\n",
    "class MatrixFactorization:\n",
    "  def __init__(self, train, test, num_items, num_factors, lrate, reg):\n",
    "    self.num_train_users = len(train.groupby(\"user\").size())\n",
    "    self.num_test_users = len(test.groupby(\"user\").size())\n",
    "    self.num_items = num_items\n",
    "    self.num_factors = num_factors\n",
    "    self.lrate = lrate\n",
    "    self.reg = reg\n",
    "\n",
    "    self.train_u = train.sort_values(by=\"user\", axis=0).reset_index(drop=True).to_numpy()\n",
    "    self.train_v = train.sort_values(by=\"item\", axis=0).reset_index(drop=True).to_numpy()\n",
    "    self.test_u = test.sort_values(by=\"user\", axis=0).reset_index(drop=True).to_numpy()\n",
    "    self.test_v = test.sort_values(by=\"item\", axis=0).reset_index(drop=True).to_numpy()\n",
    "\n",
    "    U_freqs = train.groupby(\"user\").size().values\n",
    "    U_freqs_test = test.groupby(\"user\").size().values\n",
    "\n",
    "    V_group = train.groupby(\"item\").size()\n",
    "    self.V_index = V_group.index.values\n",
    "    V_freqs = np.zeros(num_items, dtype=\"int\")\n",
    "    for i in self.V_index:\n",
    "      V_freqs[i] = V_group[i]\n",
    "\n",
    "    V_group_test = test.groupby(\"item\").size()\n",
    "    V_index_test = V_group_test.index.values\n",
    "    V_freqs_test = np.zeros(num_items, dtype=\"int\")\n",
    "    for i in V_index_test:\n",
    "      V_freqs_test[i] = V_group_test[i]\n",
    "      \n",
    "    self.U_start = np.insert(np.cumsum(U_freqs), 0, 0)\n",
    "    self.U_start_test = np.insert(np.cumsum(U_freqs_test), 0, 0)\n",
    "    self.V_start = np.insert(np.cumsum(V_freqs), 0, 0)\n",
    "    self.V_start_test = np.insert(np.cumsum(V_freqs_test), 0, 0)\n",
    "\n",
    "\n",
    "\n",
    "  def evaluate(self, test=True):\n",
    "    if test:\n",
    "      data = self.test_u\n",
    "      start = self.U_start_test\n",
    "      num_users = self.num_test_users\n",
    "    else:\n",
    "      data = self.train_u\n",
    "      start = self.U_start\n",
    "      num_users = self.num_train_users\n",
    "\n",
    "    square_error = 0\n",
    "    for user in range(num_users):\n",
    "      user_data = data[start[user] : start[user + 1]]\n",
    "      square_error += np.sum((user_data[:, 2] - np.matmul(self.V[user_data[:, 1]], self.U[user])) ** 2)\n",
    "    return np.sqrt(square_error / len(data))\n",
    "\n",
    "\n",
    "  def evaluate_item(self, item):\n",
    "    data = self.test_v[self.V_start_test[item] : self.V_start_test[item + 1]]\n",
    "    return np.sqrt(np.sum((data[:, 2] - np.matmul(self.U[data[:, 0]], self.V[item])) ** 2) / len(data))\n",
    "\n",
    "\n",
    "  def get_u_step(self, user):\n",
    "    pass\n",
    "\n",
    "\n",
    "  def get_v_step(self, item):\n",
    "    pass\n",
    "\n",
    "\n",
    "  def alt_min(self):\n",
    "    self.U = np.random.uniform(-1, 1, (self.num_train_users, self.num_factors))\n",
    "    self.V = np.random.uniform(-1, 1, (self.num_items, self.num_factors))\n",
    "\n",
    "    rmse = self.evaluate()\n",
    "    prev_rmse = 1000\n",
    "    rounds = 0\n",
    "    num_iters = 20\n",
    "    threshold = -0.001\n",
    "\n",
    "    while rmse - prev_rmse < threshold:\n",
    "      if verbose:\n",
    "        t0 = time.time()\n",
    "      prev_rmse = rmse\n",
    "      \n",
    "      # Optmize U\n",
    "      for i in range(num_iters):\n",
    "        for user in range(self.num_train_users):\n",
    "          step = self.get_u_step(user)\n",
    "          self.U[user] += self.lrate * step\n",
    "          \n",
    "      # Optimize V\n",
    "      for i in range(num_iters):\n",
    "        for item in self.V_index:\n",
    "          step = self.get_v_step(item)\n",
    "          self.V[item] += self.lrate * step\n",
    "          \n",
    "      rmse = self.evaluate()\n",
    "      rounds += 1\n",
    "\n",
    "      if verbose:\n",
    "        t1 = time.time()\n",
    "        train_rmse = self.evaluate(False)\n",
    "        print(\"\\n==================== ROUND {} ====================\\nRMSE: {}\\nPrev RMSE: {}\\nDiff: {}\\nTrain RMSE: {}\\nExecution time: {}\\n\" \\\n",
    "          .format(rounds, round(rmse, 4), round(prev_rmse, 4), round(rmse - prev_rmse, 4), round(train_rmse, 4), round(t1 - t0, 2)))\n",
    "      \n",
    "    if verbose:\n",
    "      print(\"max U: {}\\nmin U: {}\\navg U: {}\\n\".format(np.amax(self.U), np.amin(self.U), np.mean(self.U)))\n",
    "      print(\"max V: {}\\nmin V: {}\\navg V: {}\\n\".format(np.amax(self.V), np.amin(self.V), np.mean(self.V)))\n",
    "      print(\"Regularization: {}\".format(self.reg))\n",
    "      print(\"Final RMSE: {}\\n\".format(rmse))"
   ]
  },
  {
   "cell_type": "code",
   "execution_count": 75,
   "metadata": {},
   "outputs": [],
   "source": [
    "class LeastSquares(MatrixFactorization):\n",
    "  def __init__(self, train, test, num_items, num_factors=30, lrate=0.1, reg=0.1):\n",
    "    MatrixFactorization.__init__(self, train, test, num_items, num_factors, lrate, reg)\n",
    "\n",
    "\n",
    "  def get_u_step(self, user):\n",
    "    data = self.train_u[self.U_start[user] : self.U_start[user + 1]]\n",
    "    vmat = self.V[data[:, 1]]\n",
    "    preds = np.matmul(vmat, self.U[user])\n",
    "    return np.mean(np.multiply((data[:, 2] - preds).reshape((-1, 1)), vmat) - (self.reg * self.U[user]), axis=0)\n",
    "\n",
    "    \n",
    "  def get_v_step(self, item):\n",
    "    data = self.train_v[self.V_start[item] : self.V_start[item + 1]]\n",
    "    umat = self.U[data[:, 0]]\n",
    "    preds = np.matmul(umat, self.V[item])\n",
    "    return np.mean(np.multiply((data[:, 2] - preds).reshape((-1, 1)), umat) - (self.reg * self.V[item]), axis=0)"
   ]
  },
  {
   "cell_type": "code",
   "execution_count": 76,
   "metadata": {},
   "outputs": [
    {
     "name": "stdout",
     "output_type": "stream",
     "text": [
      "Target item 1792 freq: 149\n",
      "[1792, 0.0, 0.8024, 0.7915, 0.8723, 0.8686]\n",
      "[1792, 0.5485, 1.0165, 1.1434, 0.8718, 0.8687]\n",
      "Target item factors:\n",
      "[-0.1521613  -0.03606174  0.12979539  1.356082   -0.59235444 -0.00714804\n",
      "  0.03775234  0.41347589 -0.03170108  0.32937708  0.51282665  0.13173392\n",
      "  0.11163167  1.27621528  0.62742199  0.3664579  -0.43748857 -1.62253097\n",
      "  0.04562578 -0.16921736 -0.31062888 -0.34619092 -0.4928845  -0.04036666\n",
      "  0.24252487 -0.37149621 -0.62765002  0.12051612 -0.83325069 -0.15468249]\n",
      "Algo target item factors:\n",
      "[ 0.47438498  1.41245031 -1.09438774 -0.30445571 -0.99825386 -0.43128842\n",
      " -0.40364215 -1.01318219 -0.042908   -0.13841504 -0.02481691  0.10074652\n",
      " -0.0111109  -0.06170742  0.12685186 -0.15165611 -0.42965833  0.10060357\n",
      "  1.77670667 -0.17611242  0.3827099   0.39589877 -0.00928763 -0.45572155\n",
      "  0.2116667  -0.0041291   0.26454575 -0.15091072  0.40220262 -0.01018236]\n",
      "\n"
     ]
    }
   ],
   "source": [
    "train = pd.read_pickle(\"../data/ml-1m-split/train.pkl\").drop([\"item_id\", \"timestamp\"], axis=1)\n",
    "test = pd.read_pickle(\"../data/ml-1m-split/test.pkl\").drop([\"item_id\", \"timestamp\"], axis=1)\n",
    "full = pd.read_pickle(\"../data/ml-1m-split/full.pkl\").drop([\"item_id\", \"timestamp\"], axis=1)\n",
    "\n",
    "num_users = len(full.groupby(\"user\").size())\n",
    "num_items = len(full.groupby(\"item\").size())\n",
    "\n",
    "ModelClass = LeastSquares\n",
    "model_clean = ModelClass(train, test, num_items)\n",
    "\n",
    "\n",
    "item_freqs = full.groupby(\"item\").size().values\n",
    "item_freqs_train = train.groupby(\"item\").size()\n",
    "item_rating_avgs = full.groupby(\"item\").mean()[\"rating\"].values\n",
    "item_rating_stds = full.groupby(\"item\").std()[\"rating\"].values\n",
    "\n",
    "target_items_list = []\n",
    "for i in range(num_items):\n",
    "  if i in item_freqs_train and item_freqs[i] <= (0.05 * num_users) and item_freqs[i] >= (0.02 * num_users) and item_rating_avgs[i] < 3:\n",
    "    target_items_list.append(i)\n",
    "\n",
    "filler_prop = 0.05\n",
    "filler_size = int(filler_prop * num_items)\n",
    "filler_items_list = list(range(num_items))\n",
    "filler_items_list = [x for x in filler_items_list if x in item_freqs_train]\n",
    "\n",
    "\n",
    "target_items = [117, 1792, 2837, 3157, 2206, 3038, 1597, 3466, 1988, 3014]\n",
    "\n",
    "model_clean.alt_min()\n",
    "overall_rmse = model_clean.evaluate()\n",
    "results = []\n",
    "algo = BiasedMF(30, bias=False, iterations=8)\n",
    "algo.fit(train)\n",
    "preds = predict(algo, test)\n",
    "\n",
    "\n",
    "target_item = 1792\n",
    "print(\"Target item {} freq: {}\".format(target_item, len(train.loc[train[\"item\"] == target_item])))\n",
    "filler_items = random.sample([x for x in filler_items_list if x != target_item], k=filler_size)\n",
    "target_rmse = model_clean.evaluate_item(target_item)\n",
    "\n",
    "target_preds = preds.loc[preds[\"item\"] == target_item]\n",
    "algo_target_rmse = rmse(target_preds[\"prediction\"], target_preds[\"rating\"])\n",
    "algo_overall_rmse = rmse(preds[\"prediction\"], preds[\"rating\"])\n",
    "\n",
    "original_entry = [target_item, 0.0, round(target_rmse, 4), round(algo_target_rmse, 4), round(overall_rmse, 4), round(algo_overall_rmse, 4)]\n",
    "results.append(original_entry)\n",
    "print(original_entry)\n",
    "\n",
    "profile_prop = 0.03\n",
    "profile_size = int(profile_prop * num_users)\n",
    "attack_data = []\n",
    "for i in range(profile_size):\n",
    "  user = i + num_users\n",
    "  # Boost target item\n",
    "  attack_data.append([user, target_item, 5]) \n",
    "\n",
    "  for filler_item in filler_items:\n",
    "    if np.isnan(item_rating_stds[filler_item]):\n",
    "      raw_rating = item_rating_avgs[filler_item]\n",
    "    else:\n",
    "      raw_rating = np.random.normal(item_rating_avgs[filler_item], item_rating_stds[filler_item])\n",
    "    \n",
    "    rating = int(round(np.clip(raw_rating, 1, 5)))\n",
    "    attack_data.append([user, filler_item, rating])\n",
    "\n",
    "attack_df = pd.DataFrame(attack_data).rename(columns={0: \"user\", 1: \"item\", 2: \"rating\"})\n",
    "train_attacked = train.append(attack_df).reset_index().drop([\"index\"], axis=1)\n",
    "model_attack = ModelClass(train_attacked, test, num_items)\n",
    "model_attack.alt_min()\n",
    "overall_rmse_attacked = model_attack.evaluate()\n",
    "target_rmse_attacked = model_attack.evaluate_item(target_item)\n",
    "\n",
    "algo.fit(train_attacked)\n",
    "preds_attacked = predict(algo, test)\n",
    "target_preds_attacked = preds_attacked.loc[preds_attacked[\"item\"] == target_item]\n",
    "algo_target_rmse_attacked = rmse(target_preds_attacked[\"prediction\"], target_preds_attacked[\"rating\"])\n",
    "algo_overall_rmse_attacked = rmse(preds_attacked[\"prediction\"], preds_attacked[\"rating\"])\n",
    "\n",
    "attack_prop = profile_size / (profile_size + len(train.loc[train[\"item\"] == target_item]))\n",
    "entry = [target_item, round(attack_prop, 4), \\\n",
    "        round(target_rmse_attacked, 4), round(algo_target_rmse_attacked, 4), round(overall_rmse_attacked, 4), round(algo_overall_rmse_attacked, 4)]\n",
    "results.append(entry)\n",
    "print(entry)\n",
    "print(\"Target item factors:\\n{}\\nAlgo target item factors:\\n{}\\n\".format(model_attack.V[target_item], algo.item_features_[algo.item_index_.get_indexer([target_item])[0]]))  "
   ]
  },
  {
   "cell_type": "code",
   "execution_count": 34,
   "metadata": {},
   "outputs": [],
   "source": [
    "model_v = model_attack.V[target_item]"
   ]
  },
  {
   "cell_type": "code",
   "execution_count": 35,
   "metadata": {},
   "outputs": [],
   "source": [
    "algo_v = algo.item_features_[algo.item_index_.get_indexer([target_item])[0]]"
   ]
  },
  {
   "cell_type": "code",
   "execution_count": 38,
   "metadata": {},
   "outputs": [],
   "source": [
    "data = model_attack.test_v[model_attack.V_start_test[target_item] : model_attack.V_start_test[target_item + 1]]\n",
    "users = data[:, 0]\n",
    "model_u = model_attack.U[users]\n",
    "algo_u = algo.user_features_[algo.user_index_.get_indexer(users)]"
   ]
  },
  {
   "cell_type": "code",
   "execution_count": 60,
   "metadata": {},
   "outputs": [],
   "source": [
    "model_preds = np.matmul(model_u, model_v)\n",
    "model_res = data[:, 2] - model_preds\n",
    "algo_preds = np.matmul(algo_u, algo_v)\n",
    "algo_res = data[:, 2] - algo_preds"
   ]
  },
  {
   "cell_type": "code",
   "execution_count": 61,
   "metadata": {},
   "outputs": [
    {
     "data": {
      "text/plain": [
       "1.1425585623090941"
      ]
     },
     "execution_count": 61,
     "metadata": {},
     "output_type": "execute_result"
    }
   ],
   "source": [
    "np.sqrt(np.sum(model_res ** 2) / len(data))"
   ]
  },
  {
   "cell_type": "code",
   "execution_count": 62,
   "metadata": {},
   "outputs": [
    {
     "data": {
      "text/plain": [
       "1.4573903502303955"
      ]
     },
     "execution_count": 62,
     "metadata": {},
     "output_type": "execute_result"
    }
   ],
   "source": [
    "np.sqrt(np.sum(algo_res ** 2) / len(data))"
   ]
  },
  {
   "cell_type": "code",
   "execution_count": 66,
   "metadata": {},
   "outputs": [
    {
     "data": {
      "text/plain": [
       "0.8976247461335377"
      ]
     },
     "execution_count": 66,
     "metadata": {},
     "output_type": "execute_result"
    }
   ],
   "source": [
    "algo = BiasedMF(30, bias=False, iterations=10)\n",
    "algo.fit(train)\n",
    "preds = predict(algo, test)\n",
    "algo_overall_rmse = rmse(preds[\"prediction\"], preds[\"rating\"])\n",
    "algo_overall_rmse"
   ]
  },
  {
   "cell_type": "code",
   "execution_count": 79,
   "metadata": {},
   "outputs": [
    {
     "name": "stdout",
     "output_type": "stream",
     "text": [
      "3.2606635071090047\n",
      "4.25278810408922\n",
      "3.4355555555555557\n",
      "3.958677685950413\n",
      "3.5401785714285716\n",
      "3.25531914893617\n",
      "4.1940298507462686\n",
      "4.387453874538745\n",
      "3.661764705882353\n",
      "3.9523809523809526\n"
     ]
    }
   ],
   "source": [
    "target_items = [371, 1100, 2531, 40, 2818, 1314, 1747, 3081, 2984, 871]\n",
    "for item in target_items:\n",
    "  print(item_rating_avgs[item])"
   ]
  },
  {
   "cell_type": "code",
   "execution_count": 12,
   "metadata": {},
   "outputs": [],
   "source": [
    "train = pd.read_pickle(\"../data/ml-1m-split/train.pkl\").drop([\"item_id\", \"timestamp\"], axis=1)\n",
    "U_freqs = train.groupby(\"user\").size().values\n",
    "V_freqs = train.groupby(\"item\").size().values"
   ]
  },
  {
   "cell_type": "code",
   "execution_count": 18,
   "metadata": {},
   "outputs": [
    {
     "data": {
      "text/plain": [
       "132.4822847682119"
      ]
     },
     "execution_count": 18,
     "metadata": {},
     "output_type": "execute_result"
    }
   ],
   "source": [
    "np.mean(U_freqs)"
   ]
  },
  {
   "cell_type": "code",
   "execution_count": null,
   "metadata": {},
   "outputs": [],
   "source": []
  }
 ],
 "metadata": {
  "kernelspec": {
   "display_name": "Python 3",
   "language": "python",
   "name": "python3"
  },
  "language_info": {
   "codemirror_mode": {
    "name": "ipython",
    "version": 3
   },
   "file_extension": ".py",
   "mimetype": "text/x-python",
   "name": "python",
   "nbconvert_exporter": "python",
   "pygments_lexer": "ipython3",
   "version": "3.6.8"
  }
 },
 "nbformat": 4,
 "nbformat_minor": 2
}
